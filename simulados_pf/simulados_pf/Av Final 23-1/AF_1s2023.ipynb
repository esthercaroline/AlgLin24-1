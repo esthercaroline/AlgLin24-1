{
 "cells": [
  {
   "attachments": {},
   "cell_type": "markdown",
   "metadata": {},
   "source": [
    "# Avaliação Final\n",
    "\n",
    "NOME: \n",
    "\n",
    "\n",
    "E-MAIL: "
   ]
  },
  {
   "attachments": {},
   "cell_type": "markdown",
   "metadata": {},
   "source": [
    "Esta é a A.F. de Álgebra Linear e Teoria da Informação de 1s2023.\n",
    "\n",
    "\n",
    "\n",
    "INSTRUÇÕES:\n",
    "\n",
    "1. Faça todas as questões\n",
    "1. Salve o notebook\n",
    "1. Envie o notebook salvo no Blackboard\n",
    "\n",
    "IMPORTANTE:\n",
    "\n",
    "* Você pode consultar qualquer material ou IA, mas não qualquer colega ou pessoa humana, presente ou não na prova.\n",
    "* O envio da prova será fechado às 17h45. Aqueles que não enviarem o material até este horário ficarão com zero.\n",
    "* A prova vale um total de 10 pontos. As questões 1, 2, 3 e 4 têm peso igual a 2.5.\n",
    "* Os conceitos F, E, D, C, B, A serão mapeados para 0, 2, 4, 6, 8 e 10.\n",
    "* Para todas as questões, usaremos a rubrica que segue anexa a esta prova. Há uma rubrica para a justificativa e uma rubrica para o código. A nota da questão é a menor entre as notas da justificativa e do código.\n"
   ]
  },
  {
   "attachments": {},
   "cell_type": "markdown",
   "metadata": {},
   "source": [
    "# Exercício 1\n",
    "\n",
    "A matriz $X$ é:\n",
    "\n",
    "$$\n",
    "X = \\begin{bmatrix} 1.5 & 0 \\\\ 2 & 0.5 \\end{bmatrix}\n",
    "$$\n",
    "\n",
    "O vetor-coluna $v$ é:\n",
    "$$\n",
    "v = \\begin{bmatrix} 1 \\\\ 1 \\end{bmatrix}\n",
    "$$\n",
    "\n",
    "$v$ é um auto-vetor de $X$? Justifique sua resposta!"
   ]
  },
  {
   "cell_type": "markdown",
   "metadata": {},
   "source": [
    "$$\n",
    "\\begin{bmatrix} 1.5 & 0 \\\\ 2 & 0.5 \\end{bmatrix} \\begin{bmatrix} 1 \\\\ 1 \\end{bmatrix} = \\lambda \\begin{bmatrix} 1 \\\\ 1 \\end{bmatrix} = \\begin{bmatrix} 1.5 \\\\ 2.5 \\end{bmatrix}\n",
    "$$\n",
    "\n",
    "Como não existe $\\lambda$ tal que $v = \\lambda v$, então $v$ não é um auto-vetor de $X$."
   ]
  },
  {
   "cell_type": "code",
   "execution_count": 73,
   "metadata": {},
   "outputs": [
    {
     "name": "stdout",
     "output_type": "stream",
     "text": [
      "X\n",
      "[[1.5 0. ]\n",
      " [2.  0.5]]\n",
      "v\n",
      "[0.5 1.5]\n",
      "w\n",
      "[[0.         0.4472136 ]\n",
      " [1.         0.89442719]]\n",
      "X @ V\n",
      "[[1.5]\n",
      " [2.5]]\n",
      "Não é autovetor\n",
      "None\n"
     ]
    }
   ],
   "source": [
    "# Isso não é a resposta do exercício - mas mostra alguns caminhos para encontrar a resposta.\n",
    "import numpy as np\n",
    "X = np.array([[1.5, 0], \n",
    "              [2, 0.5]])\n",
    "\n",
    "print(\"X\")\n",
    "print(X)\n",
    "v, w = np.linalg.eig(X)\n",
    "print(\"v\")\n",
    "print(v)\n",
    "print(\"w\")\n",
    "print(w)\n",
    "\n",
    "V = np.array([[1, 1]]).T\n",
    "print(\"X @ V\")\n",
    "print(X @ V)\n",
    "\n",
    "def verifica_se_eh_autovetor(X, V):\n",
    "    mult = X @ V\n",
    "    # Se o vetor for um autovetor, deve ter um lambda tal que X @ V = lambda * V\n",
    "    alpha = 0.00001\n",
    "    while True:\n",
    "        if np.allclose(mult, alpha * V):\n",
    "            print(\"Autovetor encontrado com lambda = \", alpha)\n",
    "            return alpha\n",
    "        alpha += 0.00001\n",
    "        if alpha > 10:\n",
    "            print(\"Não é autovetor\")\n",
    "            return None\n",
    "\n",
    "print(verifica_se_eh_autovetor(X, V))"
   ]
  },
  {
   "cell_type": "code",
   "execution_count": 59,
   "metadata": {},
   "outputs": [
    {
     "name": "stdout",
     "output_type": "stream",
     "text": [
      "O vetor v não é um autovetor de X.\n"
     ]
    }
   ],
   "source": [
    "import numpy as np\n",
    "\n",
    "# Definindo a matriz X e o vetor v\n",
    "X = np.array([[1.5, 0],\n",
    "              [2, 0.5]])\n",
    "v = np.array([[1],\n",
    "              [1]])\n",
    "\n",
    "# Calculando Xv\n",
    "Xv = np.dot(X, v)\n",
    "\n",
    "# Calculando os autovalores e autovetores de X\n",
    "autovalores, autovetores = np.linalg.eig(X)\n",
    "\n",
    "# Inicializando uma variável para armazenar o autovetor correspondente a v, se encontrado\n",
    "autovetor_correspondente = None\n",
    "\n",
    "# Iterando sobre todos os autovalores para encontrar o autovetor correspondente a v\n",
    "for i in range(len(autovalores)):\n",
    "    # Verificando se X vezes o autovetor atual é igual ao autovalor vezes o autovetor atual\n",
    "    if np.allclose(np.dot(X, autovetores[:, i]), autovalores[i] * autovetores[:, i]):\n",
    "        # Se a condição for verdadeira, o autovetor atual é o autovetor correspondente a v\n",
    "        autovetor_correspondente = autovetores[:, i]\n",
    "        break\n",
    "\n",
    "# Se v é um autovetor, imprime o autovalor correspondente\n",
    "if np.allclose(autovetor_correspondente, v):\n",
    "    # Se autovetor_correspondente é igual a v, então v é um autovetor\n",
    "    autovalor_correspondente = autovalores[i]\n",
    "    print(\"O vetor v é um autovetor de X.\")\n",
    "    print(f\"Autovalor correspondente: {autovalor_correspondente}\")\n",
    "else:\n",
    "    # Caso contrário, v não é um autovetor\n",
    "    print(\"O vetor v não é um autovetor de X.\")"
   ]
  },
  {
   "attachments": {},
   "cell_type": "markdown",
   "metadata": {},
   "source": [
    "# Exercício 2\n",
    "\n",
    "Um possível modelo para o controle de doenças é o modelo SI (Suscetível - Infectado). Nesse modelo, uma pessoa pode estar ou suscetível ou infectada. Uma pessoa suscetível não tem a doença, mas pode contraí-la a qualquer momento. Uma pessoa infectada tem a doença, mas pode se recuperar.\n",
    "\n",
    "A cada semana, uma pessoa suscetível tem uma probabilidade de continuar saudável e uma probabilidade de ficar infectada. Da mesma forma, uma pessoa que está infectada tem uma probabilidade de continuar infectada e uma probabilidade de se recuperar, voltando a estar suscetível.\n",
    "\n",
    "Esse modelo foi aplicado para a doença (fictícia!) algelinite, que faz a pessoa doente ficar azul e cheia de bolinhas amarelas. Uma pessoa com algelininte não consegue trabalhar, nem estudar, nem se divertir. A pessoa com algelinite precisa de um leito de hospital até sua recuperação completa.\n",
    "\n",
    "Através de pesquisas, cientistas determinaram que:, a cada semana:\n",
    "\n",
    "* A probabilidade de uma pessoa suscetível se infectar com algelininte é $0.01$ (e, por consequência, a probabilidade de simplesmente continuar suscetível é $0.99$).\n",
    "* A probabilidade de uma pessoa infectada se recuperar (se estiver num leito hospitalar) é $0.2$ (e, por consequência, a probabilidade de continuar doente é $0.8$).\n",
    "\n",
    "Na cidade de São Paulo há 10 milhões de pessoas, inicialmente saudáveis. Quantos leitos de hospital são tipicamente necessários para controlar a algelininte na capital paulista ao longo de um tempo longo? Justifique sua resposta!"
   ]
  },
  {
   "cell_type": "code",
   "execution_count": 92,
   "metadata": {},
   "outputs": [
    {
     "name": "stdout",
     "output_type": "stream",
     "text": [
      "[[0.99 0.2 ]\n",
      " [0.01 0.8 ]]\n"
     ]
    },
    {
     "data": {
      "image/png": "[encoded data removed]",
      "text/plain": [
       "<Figure size 640x480 with 1 Axes>"
      ]
     },
     "metadata": {},
     "output_type": "display_data"
    },
    {
     "name": "stdout",
     "output_type": "stream",
     "text": [
      "[[9523809.52688525]\n",
      " [ 476190.47311475]]\n"
     ]
    }
   ],
   "source": [
    "import numpy as np\n",
    "import matplotlib.pyplot as plt\n",
    "\n",
    "# Definindo a matriz de transição A e o vetor de estado inicial x\n",
    "A = np.array([[0.99, 0.2],\n",
    "              [0.01, 0.8]])\n",
    "x = np.array([[10_000_000],\n",
    "              [0]])\n",
    "\n",
    "leitos = []\n",
    "saudaveis = []\n",
    "\n",
    "print(A)\n",
    "# um passo: x = A @ x\n",
    "# implemente 52*50 passos seguidos!\n",
    "for _ in range(80): # 52 semanas * 50 anos\n",
    "    x = A@x\n",
    "    leitos.append(x[1])\n",
    "    saudaveis.append(x[0])\n",
    "\n",
    "plt.figure()\n",
    "plt.plot(leitos, label='Leitos')\n",
    "plt.plot(saudaveis, label='Saudáveis')\n",
    "plt.legend()\n",
    "plt.show()\n",
    "\n",
    "# Número de pessoas por condição(suscetível/infectado) = # total de pessoas * P(pessoa por condição)\n",
    "print(x)"
   ]
  },
  {
   "cell_type": "code",
   "execution_count": 93,
   "metadata": {},
   "outputs": [
    {
     "name": "stdout",
     "output_type": "stream",
     "text": [
      "[[0.99 0.2 ]\n",
      " [0.01 0.8 ]]\n"
     ]
    },
    {
     "data": {
      "image/png": "[encoded data removed]",
      "text/plain": [
       "<Figure size 640x480 with 1 Axes>"
      ]
     },
     "metadata": {},
     "output_type": "display_data"
    },
    {
     "name": "stdout",
     "output_type": "stream",
     "text": [
      "[[9523809.46229495]\n",
      " [ 476190.53770505]]\n"
     ]
    }
   ],
   "source": [
    "import numpy as np\n",
    "import matplotlib.pyplot as plt\n",
    "\n",
    "# Definindo a matriz de transição A e o vetor de estado inicial x\n",
    "A = np.array([[0.99, 0.2],\n",
    "              [0.01, 0.8]])\n",
    "x = np.array([[0],\n",
    "              [10_000_000]])\n",
    "\n",
    "leitos = []\n",
    "saudaveis = []\n",
    "\n",
    "print(A)\n",
    "# um passo: x = A @ x\n",
    "# implemente 52*50 passos seguidos!\n",
    "for _ in range(80): # 52 semanas * 50 anos\n",
    "    x = A@x\n",
    "    leitos.append(x[1])\n",
    "    saudaveis.append(x[0])\n",
    "\n",
    "plt.figure()\n",
    "plt.plot(leitos, label='Leitos')\n",
    "plt.plot(saudaveis, label='Saudáveis')\n",
    "plt.legend()\n",
    "plt.show()\n",
    "\n",
    "# Número de pessoas por condição(suscetível/infectado) = # total de pessoas * P(pessoa por condição)\n",
    "print(x)"
   ]
  },
  {
   "cell_type": "code",
   "execution_count": 88,
   "metadata": {},
   "outputs": [
    {
     "name": "stdout",
     "output_type": "stream",
     "text": [
      "[[0.99 0.2 ]\n",
      " [0.01 0.8 ]]\n",
      "Número de leitos de hospital necessários: 476191\n"
     ]
    }
   ],
   "source": [
    "import numpy as np\n",
    "\n",
    "# População inicial\n",
    "x = np.array([[10_000_000], [0]])\n",
    "\n",
    "# Matriz de transição das categorias suscetível (S) para infectada (I)\n",
    "A = np.array([[0.99, 0.2], \n",
    "              [0.01, 0.8]])\n",
    "print(A)\n",
    "\n",
    "# Simulação de 100 iterações\n",
    "for _ in range(52*50): # 52 semanas * 50 anos\n",
    "    x = A @ x\n",
    "\n",
    "# O número de leitos necessários é aproximadamente igual ao número máximo de infectados\n",
    "leitos_necessarios = int(np.ceil(max(x[1])))\n",
    "print(f\"Número de leitos de hospital necessários: {leitos_necessarios}\")"
   ]
  },
  {
   "cell_type": "code",
   "execution_count": 64,
   "metadata": {},
   "outputs": [
    {
     "name": "stdout",
     "output_type": "stream",
     "text": [
      "9523809.52380952 476190.47619047924\n",
      "\n"
     ]
    }
   ],
   "source": [
    "populacao = np.array([[9523809.52380952],\n",
    "                      [476190.47619048]])\n",
    "\n",
    "A = np.array([[0.99, 0.2], \n",
    "              [0.01, 0.8]])\n",
    "\n",
    "saudaveis = 9523809.52380952 * 0.99 + 0.2 * 476190.47619048\n",
    "infectadas = 0.01 * 9523809.52380952 + 0.8 * 476190.47619048\n",
    "print(saudaveis, infectadas)\n",
    "print()"
   ]
  },
  {
   "attachments": {},
   "cell_type": "markdown",
   "metadata": {},
   "source": [
    "# Exercício 3\n",
    "\n",
    "Um grupo de cientistas de dados coletou dados sobre os hábitos de estudo de alunos de uma sala de aula do ensino médio. Os dados coletados, para cada aluno, são a sua nota na prova final de Filosofia e o tempo que cada aluno passou estudando.\n",
    "\n",
    "Os dados do tempo de estudo ($t$) e da nota da na prova ($y$) estão abaixo.\n",
    "\n",
    "Embora os alunos tenham reclamado que a prova estava difícil, a coordenação da escola argumentou que está claro que, quanto maior o tempo de estudo, maior foi a nota na prova. Ainda, uma das diretrizes da escola diz que as provas são planejadas para que, com 4h de estudo, seja absolutamente factível tirar nota 8 na prova. A coordenção da escola diz que a nota, inclusive, pode ser predita com um modelo linear do tipo $y=at+b$.\n",
    "\n",
    "Como representante da equipe de ciência de dados:\n",
    "\n",
    "1. Argumente sobre se o modelo proposto pela coordenação é adequado para prever as notas dos alunos, e, se for o caso, proponha um modelo diferente,\n",
    "1. Usando `autograd`, encontre os parâmetros do modelo que permite prever a nota com base no tempo de estudo,\n",
    "1. Mostre uma figura com os pontos medidos sobrepostos a uma linha que evidencie as predições do modelo,\n",
    "1. Usando os parâmetros do modelo que você escolheu, decida se é factível tirar nota 8 na prova com 4h de estudo."
   ]
  },
  {
   "cell_type": "code",
   "execution_count": 65,
   "metadata": {},
   "outputs": [
    {
     "data": {
      "image/png": "[encoded data removed]",
      "text/plain": [
       "<Figure size 640x480 with 1 Axes>"
      ]
     },
     "metadata": {},
     "output_type": "display_data"
    }
   ],
   "source": [
    "import matplotlib.pyplot as plt\n",
    "\n",
    "t = [0.0, 0.0, 0.1, 0.1, 0.2, 0.2, 0.2, 0.3, 0.3, 0.4, 0.4, 0.4, 0.5, 0.5, 0.6, 0.6, 0.7, 0.7, 0.7, 0.8, 0.8, 0.9, 0.9, 0.9, 1.0, 1.0, 1.1, 1.1, 1.1, 1.2, 1.2, 1.3, 1.3, 1.3, 1.4, 1.4, 1.5, 1.5, 1.6, 1.6, 1.6, 1.7, 1.7, 1.8, 1.8, 1.8, 1.9, 1.9, 2.0, 2.0]\n",
    "y = [2.0, 2.1, 2.1, 2.5, 2.2, 2.3, 2.5, 2.6, 2.6, 2.8, 2.8, 3.1, 3.0, 3.2, 3.2, 3.4, 3.5, 3.5, 3.5, 3.6, 3.6, 3.7, 4.0, 3.8, 4.0, 4.1, 4.2, 4.2, 4.1, 4.3, 4.3, 4.5, 4.7, 4.5, 4.8, 4.8, 4.9, 5.2, 4.9, 5.1, 5.3, 5.4, 5.6, 5.5, 5.3, 5.6, 5.8, 5.7, 5.8, 5.9]\n",
    "\n",
    "plt.figure()\n",
    "plt.scatter(t,y)\n",
    "plt.xlabel('Tempo de estudo (h)')\n",
    "plt.ylabel('Nota na prova')\n",
    "plt.show()"
   ]
  },
  {
   "cell_type": "code",
   "execution_count": 72,
   "metadata": {},
   "outputs": [
    {
     "data": {
      "image/png": "[encoded data removed]",
      "text/plain": [
       "<Figure size 640x480 with 1 Axes>"
      ]
     },
     "metadata": {},
     "output_type": "display_data"
    }
   ],
   "source": [
    "import matplotlib.pyplot as plt\n",
    "import numpy as np\n",
    "import autograd.numpy as np_\n",
    "from autograd import grad\n",
    "\n",
    "tempos = [0.0, 0.0, 0.1, 0.1, 0.2, 0.2, 0.2, 0.3, 0.3, 0.4, 0.4, 0.4, 0.5, 0.5, 0.6, 0.6, 0.7, 0.7, 0.7, 0.8, 0.8, 0.9, 0.9, 0.9, 1.0, 1.0, 1.1, 1.1, 1.1, 1.2, 1.2, 1.3, 1.3, 1.3, 1.4, 1.4, 1.5, 1.5, 1.6, 1.6, 1.6, 1.7, 1.7, 1.8, 1.8, 1.8, 1.9, 1.9, 2.0, 2.0]\n",
    "notas = [2.0, 2.1, 2.1, 2.5, 2.2, 2.3, 2.5, 2.6, 2.6, 2.8, 2.8, 3.1, 3.0, 3.2, 3.2, 3.4, 3.5, 3.5, 3.5, 3.6, 3.6, 3.7, 4.0, 3.8, 4.0, 4.1, 4.2, 4.2, 4.1, 4.3, 4.3, 4.5, 4.7, 4.5, 4.8, 4.8, 4.9, 5.2, 4.9, 5.1, 5.3, 5.4, 5.6, 5.5, 5.3, 5.6, 5.8, 5.7, 5.8, 5.9]\n",
    "\n",
    "tempos_ = np_.array(tempos)\n",
    "notas_ = np_.array(notas)\n",
    "\n",
    "def loss ( parametros ):\n",
    "    A,B,t,n = parametros\n",
    "    estimativa = A*t + B\n",
    "    erro = np_.mean((estimativa - n)**2)\n",
    "    return erro\n",
    "\n",
    "dloss = grad(loss)\n",
    "\n",
    "\n",
    "A = 0.0\n",
    "B = 0.0\n",
    "alpha = 10**-3\n",
    "\n",
    "\n",
    "for i in range(10000):\n",
    "    g = dloss( (A,B,tempos_,notas_) )\n",
    "    A -= alpha * g[0]\n",
    "    B -= alpha * g[1]\n",
    "\n",
    "funcao_final_estimada = A * tempos_ + B\n",
    "\n",
    "plt.figure()\n",
    "plt.scatter(t,y)\n",
    "plt.plot(tempos_, funcao_final_estimada, color='red')\n",
    "plt.xlabel('Tempo de estudo (h)')\n",
    "plt.ylabel('Nota na prova')\n",
    "plt.show()"
   ]
  },
  {
   "cell_type": "code",
   "execution_count": 74,
   "metadata": {},
   "outputs": [
    {
     "name": "stdout",
     "output_type": "stream",
     "text": [
      "A nota estimada para 4 horas de estudo é 9.7960771112733\n"
     ]
    }
   ],
   "source": [
    "# Descobrir qual seria a nota se o tempo de estudo fosse 4 horas\n",
    "nota_estimada = A * 4 + B\n",
    "print(f\"A nota estimada para 4 horas de estudo é {nota_estimada}\")"
   ]
  },
  {
   "cell_type": "code",
   "execution_count": 66,
   "metadata": {},
   "outputs": [
    {
     "ename": "TypeError",
     "evalue": "can't multiply sequence by non-int of type 'float'",
     "output_type": "error",
     "traceback": [
      "\u001b[1;31m---------------------------------------------------------------------------\u001b[0m",
      "\u001b[1;31mTypeError\u001b[0m                                 Traceback (most recent call last)",
      "Cell \u001b[1;32mIn[66], line 77\u001b[0m\n\u001b[0;32m     74\u001b[0m \u001b[38;5;66;03m# Otimizando o modelo\u001b[39;00m\n\u001b[0;32m     76\u001b[0m \u001b[38;5;28;01mfor\u001b[39;00m i \u001b[38;5;129;01min\u001b[39;00m \u001b[38;5;28mrange\u001b[39m(\u001b[38;5;241m1000\u001b[39m):\n\u001b[1;32m---> 77\u001b[0m     a \u001b[38;5;241m=\u001b[39m \u001b[43mmelhorar_modelo\u001b[49m\u001b[43m(\u001b[49m\u001b[43mt\u001b[49m\u001b[43m,\u001b[49m\u001b[43m \u001b[49m\u001b[43my\u001b[49m\u001b[43m,\u001b[49m\u001b[43m \u001b[49m\u001b[38;5;241;43m0.01\u001b[39;49m\u001b[43m,\u001b[49m\u001b[43m \u001b[49m\u001b[43ma\u001b[49m\u001b[43m)\u001b[49m\n\u001b[0;32m     78\u001b[0m     parametros \u001b[38;5;241m=\u001b[39m [t, y, a, b]\n\u001b[0;32m     80\u001b[0m \u001b[38;5;66;03m# Plotando os resultados\u001b[39;00m\n",
      "Cell \u001b[1;32mIn[66], line 62\u001b[0m, in \u001b[0;36mmelhorar_modelo\u001b[1;34m(medidas_x, medidas_y, alpha, a_atual)\u001b[0m\n\u001b[0;32m     61\u001b[0m \u001b[38;5;28;01mdef\u001b[39;00m \u001b[38;5;21mmelhorar_modelo\u001b[39m(medidas_x, medidas_y, alpha, a_atual):\n\u001b[1;32m---> 62\u001b[0m     a_novo \u001b[38;5;241m=\u001b[39m a_atual \u001b[38;5;241m-\u001b[39m alpha \u001b[38;5;241m*\u001b[39m \u001b[43mdeqm_da\u001b[49m\u001b[43m(\u001b[49m\u001b[43mmedidas_x\u001b[49m\u001b[43m,\u001b[49m\u001b[43m \u001b[49m\u001b[43mmedidas_y\u001b[49m\u001b[43m,\u001b[49m\u001b[43m \u001b[49m\u001b[43ma_atual\u001b[49m\u001b[43m)\u001b[49m\n\u001b[0;32m     63\u001b[0m     \u001b[38;5;28;01mreturn\u001b[39;00m a_novo\n",
      "Cell \u001b[1;32mIn[66], line 56\u001b[0m, in \u001b[0;36mdeqm_da\u001b[1;34m(medidas_x, medidas_y, coef_angular_tentativa)\u001b[0m\n\u001b[0;32m     54\u001b[0m \u001b[38;5;28;01mdef\u001b[39;00m \u001b[38;5;21mdeqm_da\u001b[39m(medidas_x, medidas_y, coef_angular_tentativa): \u001b[38;5;66;03m# Essa função calcula o erro quadrático médio entre as medições e um modelo\u001b[39;00m\n\u001b[0;32m     55\u001b[0m     \u001b[38;5;66;03m# Complete esta função\u001b[39;00m\n\u001b[1;32m---> 56\u001b[0m     dEQM \u001b[38;5;241m=\u001b[39m \u001b[38;5;28msum\u001b[39m(medidas_x \u001b[38;5;241m*\u001b[39m (\u001b[43mcoef_angular_tentativa\u001b[49m\u001b[43m \u001b[49m\u001b[38;5;241;43m*\u001b[39;49m\u001b[43m \u001b[49m\u001b[43mmedidas_x\u001b[49m \u001b[38;5;241m-\u001b[39m medidas_y)) \u001b[38;5;241m*\u001b[39m (\u001b[38;5;241m2\u001b[39m \u001b[38;5;241m/\u001b[39m \u001b[38;5;28mlen\u001b[39m(medidas_x))\n\u001b[0;32m     57\u001b[0m     \u001b[38;5;28;01mreturn\u001b[39;00m dEQM\n",
      "\u001b[1;31mTypeError\u001b[0m: can't multiply sequence by non-int of type 'float'"
     ]
    }
   ],
   "source": [
    "def eqm( parametros ): # Essa função calcula o erro quadrático médio entre as medições e um modelo\n",
    "    medidas_x, medidas_y, coef_angular_modelo, coef_linear_modelo = parametros\n",
    "    y_reta = coef_angular_modelo * medidas_x + coef_linear_modelo # Calcula a reta\n",
    "    dists = (medidas_y - y_reta)**2 # Calcula o quadrado das diferenças\n",
    "    eqm_ = sum(dists)/len(medidas_x) # Calcula o erro quadrático médio\n",
    "\n",
    "    return eqm_\n",
    "\n",
    "def deqm_da(medidas_x, medidas_y, coef_angular_tentativa): # Essa função calcula o erro quadrático médio entre as medições e um modelo\n",
    "    # Complete esta função\n",
    "    dEQM = sum(medidas_x * (coef_angular_tentativa * medidas_x - medidas_y)) * (2 / len(medidas_x))\n",
    "    return dEQM\n",
    "\n",
    "def melhorar_modelo(medidas_x, medidas_y, alpha, a_atual):\n",
    "    a_novo = a_atual - alpha * deqm_da(medidas_x, medidas_y, a_atual)\n",
    "    return a_novo\n",
    "\n",
    "# Um grupo de cientistas de dados coletou dados sobre os hábitos de estudo de alunos de uma sala de aula do ensino médio. Os dados coletados, para cada aluno, são a sua nota na prova final de Filosofia e o tempo que cada aluno passou estudando.\n",
    "\n",
    "# Os dados do tempo de estudo ($t$) e da nota da na prova ($y$) estão abaixo.\n",
    "\n",
    "# Embora os alunos tenham reclamado que a prova estava difícil, a coordenação da escola argumentou que está claro que, quanto maior o tempo de estudo, maior foi a nota na prova. Ainda, uma das diretrizes da escola diz que as provas são planejadas para que, com 4h de estudo, seja absolutamente factível tirar nota 8 na prova. A coordenção da escola diz que a nota, inclusive, pode ser predita com um modelo linear do tipo $y=at+b$.\n",
    "\n",
    "# Como representante da equipe de ciência de dados:\n",
    "\n",
    "# 1. Argumente sobre se o modelo proposto pela coordenação é adequado para prever as notas dos alunos, e, se for o caso, proponha um modelo diferente,\n",
    "# 2. Usando `autograd`, encontre os parâmetros do modelo que permite prever a nota com base no tempo de estudo,\n",
    "# 3. Mostre uma figura com os pontos medidos sobrepostos a uma linha que evidencie as predições do modelo,\n",
    "# 4. Usando os parâmetros do modelo que você escolheu, decida se é factível tirar nota 8 na prova com 4h de estudo.\n",
    "\n",
    "import autograd.numpy as np\n",
    "from autograd import grad\n",
    "import matplotlib.pyplot as plt\n",
    "\n",
    "\n",
    "# Dados de tempo de estudo e nota na prova\n",
    "t = [0.0, 0.0, 0.1, 0.1, 0.2, 0.2, 0.2, 0.3, 0.3, 0.4, 0.4, 0.4, 0.5, 0.5, 0.6, 0.6, 0.7, 0.7, 0.7, 0.8, 0.8, 0.9, 0.9, 0.9, 1.0, 1.0, 1.1, 1.1, 1.1, 1.2, 1.2, 1.3, 1.3, 1.3, 1.4, 1.4, 1.5, 1.5, 1.6, 1.6, 1.6, 1.7, 1.7, 1.8, 1.8, 1.8, 1.9, 1.9, 2.0, 2.0]\n",
    "y = [2.0, 2.1, 2.1, 2.5, 2.2, 2.3, 2.5, 2.6, 2.6, 2.8, 2.8, 3.1, 3.0, 3.2, 3.2, 3.4, 3.5, 3.5, 3.5, 3.6, 3.6, 3.7, 4.0, 3.8, 4.0, 4.1, 4.2, 4.2, 4.1, 4.3, 4.3, 4.5, 4.7, 4.5, 4.8, 4.8, 4.9, 5.2, 4.9, 5.1, 5.3, 5.4, 5.6, 5.5, 5.3, 5.6, 5.8, 5.7, 5.8, 5.9] \n",
    "\n",
    "# Função de erro quadrático médio\n",
    "\n",
    "def eqm( parametros ): # Essa função calcula o erro quadrático médio entre as medições e um modelo\n",
    "    medidas_x, medidas_y, coef_angular_modelo, coef_linear_modelo = parametros\n",
    "    # Complete esta função\n",
    "    y_reta = coef_angular_modelo * medidas_x + coef_linear_modelo\n",
    "    dists = (medidas_y - y_reta)**2\n",
    "    eqm_ = sum(dists)/len(medidas_x)\n",
    "\n",
    "    return eqm_\n",
    "\n",
    "# Derivada do erro quadrático médio\n",
    "\n",
    "def deqm_da(medidas_x, medidas_y, coef_angular_tentativa): # Essa função calcula o erro quadrático médio entre as medições e um modelo\n",
    "    # Complete esta função\n",
    "    dEQM = sum(medidas_x * (coef_angular_tentativa * medidas_x - medidas_y)) * (2 / len(medidas_x))\n",
    "    return dEQM\n",
    "\n",
    "# Melhorando o modelo\n",
    "\n",
    "def melhorar_modelo(medidas_x, medidas_y, alpha, a_atual):\n",
    "    a_novo = a_atual - alpha * deqm_da(medidas_x, medidas_y, a_atual)\n",
    "    return a_novo\n",
    "\n",
    "# Inicializando os coeficientes do modelo\n",
    "\n",
    "a = 0.0\n",
    "b = 0.0\n",
    "\n",
    "# Parâmetros do modelo\n",
    "\n",
    "parametros = [t, y, a, b]\n",
    "\n",
    "# Otimizando o modelo\n",
    "\n",
    "for i in range(1000):\n",
    "    a = melhorar_modelo(t, y, 0.01, a)\n",
    "    parametros = [t, y, a, b]\n",
    "\n",
    "# Plotando os resultados\n",
    "\n",
    "plt.figure()\n",
    "plt.scatter(t, y)\n",
    "plt.plot(t, a*t + b, color='red')\n",
    "plt.xlabel('Tempo de estudo (h)')\n",
    "plt.ylabel('Nota na prova')\n",
    "plt.show()"
   ]
  },
  {
   "attachments": {},
   "cell_type": "markdown",
   "metadata": {},
   "source": [
    "# Exercício 4\n",
    "\n",
    "Após realizar a compressão de uma sequência com o Código de Huffman, obtemos a seguinte árvore:\n",
    "\n",
    "<img src=\"arvore.png\" />\n",
    "\n"
   ]
  },
  {
   "attachments": {},
   "cell_type": "markdown",
   "metadata": {},
   "source": [
    "\n",
    "1. Qual é a codificação da sequência: `ABBCBAAACD`?\n",
    "\n",
    "0 10 10 110 10 0 0 0 110 111\n",
    "\n",
    "2. Qual é a sequência cuja codificação é: `0 10 110 111 111 110 10 0`?\n",
    "\n",
    "A B C D D C B A"
   ]
  },
  {
   "attachments": {},
   "cell_type": "markdown",
   "metadata": {},
   "source": []
  }
 ],
 "metadata": {
  "kernelspec": {
   "display_name": "math",
   "language": "python",
   "name": "python3"
  },
  "language_info": {
   "codemirror_mode": {
    "name": "ipython",
    "version": 3
   },
   "file_extension": ".py",
   "mimetype": "text/x-python",
   "name": "python",
   "nbconvert_exporter": "python",
   "pygments_lexer": "ipython3",
   "version": "3.11.5"
  },
  "orig_nbformat": 4
 },
 "nbformat": 4,
 "nbformat_minor": 2
}
