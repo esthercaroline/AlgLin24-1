{
 "cells": [
  {
   "attachments": {},
   "cell_type": "markdown",
   "metadata": {},
   "source": [
    "# Avaliação Final\n",
    "\n",
    "NOME: João Alfredo Cardoso Lamy\n",
    "\n",
    "\n",
    "E-MAIL: joaoacl@al.insper.edu.br"
   ]
  },
  {
   "attachments": {},
   "cell_type": "markdown",
   "metadata": {},
   "source": [
    "Esta é a A.F. de Álgebra Linear e Teoria da Informação de 1s2023.\n",
    "\n",
    "\n",
    "\n",
    "INSTRUÇÕES:\n",
    "\n",
    "1. Faça todas as questões\n",
    "1. Salve o notebook\n",
    "1. Envie o notebook salvo no Blackboard\n",
    "\n",
    "IMPORTANTE:\n",
    "\n",
    "* Você pode consultar qualquer material ou IA, mas não qualquer colega ou pessoa humana, presente ou não na prova.\n",
    "* O envio da prova será fechado às 17h45. Aqueles que não enviarem o material até este horário ficarão com zero.\n",
    "* A prova vale um total de 10 pontos. As questões 1, 2, 3 e 4 têm peso igual a 2.5.\n",
    "* Os conceitos F, E, D, C, B, A serão mapeados para 0, 2, 4, 6, 8 e 10.\n",
    "* Para todas as questões, usaremos a rubrica que segue anexa a esta prova. Há uma rubrica para a justificativa e uma rubrica para o código. A nota da questão é a menor entre as notas da justificativa e do código.\n"
   ]
  },
  {
   "attachments": {},
   "cell_type": "markdown",
   "metadata": {},
   "source": [
    "# Exercício 1\n",
    "\n",
    "A matriz $X$ é:\n",
    "\n",
    "$$\n",
    "X = \\begin{bmatrix} 1.5 & 0 \\\\ 2 & 0.5 \\end{bmatrix}\n",
    "$$\n",
    "\n",
    "O vetor-coluna $v$ é:\n",
    "$$\n",
    "v = \\begin{bmatrix} 1 \\\\ 1 \\end{bmatrix}\n",
    "$$\n",
    "\n",
    "$v$ é um auto-vetor de $X$? Justifique sua resposta!"
   ]
  },
  {
   "cell_type": "code",
   "execution_count": 31,
   "metadata": {},
   "outputs": [
    {
     "name": "stdout",
     "output_type": "stream",
     "text": [
      "[[0.         0.4472136 ]\n",
      " [1.         0.89442719]]\n"
     ]
    },
    {
     "data": {
      "text/plain": [
       "array([[ 5.00000000e-01, -5.55111512e-17],\n",
       "       [ 0.00000000e+00,  1.50000000e+00]])"
      ]
     },
     "execution_count": 31,
     "metadata": {},
     "output_type": "execute_result"
    }
   ],
   "source": [
    "import numpy as np\n",
    "\n",
    "x = np.array([[1.5,0],\n",
    "              [2,0.5]])\n",
    "\n",
    "w,v = np.linalg.eig(x)\n",
    "\n",
    "print(v)\n",
    "\n",
    "alpha = 1/v[0][1]\n",
    "\n",
    "v2 = v * alpha\n",
    "\n",
    "P = x@v \n",
    "P2 = x@v2\n",
    "\n",
    "l = np.linalg.inv(v)@P\n",
    "l2 = np.linalg.inv(v2)@P2\n",
    "\n",
    "l2"
   ]
  },
  {
   "attachments": {},
   "cell_type": "markdown",
   "metadata": {},
   "source": [
    "# Resposta do Exercício 1\n",
    "\n",
    "Inicialmente, possuimos o vetor $X$, que tem os valores:\n",
    "\n",
    "$$\n",
    "X = \\begin{bmatrix} 1.5 & 0 \\\\ 2 & 0.5 \\end{bmatrix}\n",
    "$$\n",
    "\n",
    "Calculamos, então, seu autovetor e autovalor utilizando a função `np.linalg.eig(X)`. No final, temos que os autovetores de $X$ são:\n",
    "\n",
    "$$\n",
    "V = \\begin{bmatrix} \n",
    "0 & 0.4472136 \\\\ \n",
    "1 & 0.89442719 \n",
    "\\end{bmatrix}\n",
    "$$\n",
    "\n",
    "Esses valores não parecem ser promissores para provar que o vetor coluna $v$ é realmente um autovetor de $X$, mas, podemos estar esquecendo de um fenômeno importante: um autovetor multiplicado por um $\\alpha$ ainda é um autovetor:\n",
    "\n",
    "O que quero dizer com isso pode ser descrito utilizando algumas fórmulas. Inicialmente, temos apenas a fórmula dos autovetores e autovalores. A matriz $A$ é nossa matriz original, $x$ representa nossos autovetores e $\\lambda$ nossos autovalores:\n",
    "\n",
    "$$\n",
    "\n",
    "Ax = x\\lambda\n",
    "\n",
    "$$\n",
    "\n",
    "Agora, vamos introduzir a matriz $y$. Ela é a seguinte:\n",
    "\n",
    "$$\n",
    "y = x\\alpha\n",
    "$$\n",
    "\n",
    "Mesmo assim, a seguinte fórmula ainda é verdadeira:\n",
    "$$\n",
    "\n",
    "Ay = y\\lambda\n",
    "\n",
    "$$\n",
    "\n",
    "Portanto:\n",
    "\n",
    "$$\n",
    "x^{-1}Ax = \\lambda\n",
    "$$\n",
    "$$\n",
    "y^{-1}Ay = \\lambda\n",
    "$$\n",
    "$$\n",
    "x^{-1}Ax = y^{-1}Ay \n",
    "$$\n",
    "\n",
    "Meu código utiliza esse fenômeno para ver se $v$ é ou não um autovetor de $X$.\n",
    "\n",
    "Para isso, necessitava de um $\\alpha$. Infelizmente, não havia uma proporção de 1 para 1 em nenhuma das coluna da matriz de autovetores, então já era possível ver que $v$ não era um autovetor. Mesmo assim, escolhi um valor dos autovetores e realizei a seguinte operação para obter um alpha:\n",
    "\n",
    "$$\n",
    "\\alpha = \\frac{1}{0.4472136}\n",
    "$$\n",
    "\n",
    "Criei um vetor $V_2$, que é:\n",
    "\n",
    "$$\n",
    "V_{2} = V\\alpha\n",
    "$$\n",
    "\n",
    "Finalmente, testei se a o processo de conseguir a matriz de autovalores retorna o mesmo resultado em ambos, ou seja:\n",
    "\n",
    "$$\n",
    "V^{-1}XV = \\lambda _1\n",
    "$$\n",
    "$$\n",
    "V_{2}^{-1}XV_{2} = \\lambda _2\n",
    "$$\n",
    "$$\n",
    "V^{-1}XV = V_{2}^{-1}XV_{2} \n",
    "$$\n",
    "$$\n",
    "\\lambda _1 = \\lambda _2\n",
    "$$\n",
    "\n",
    "\n",
    "No código, as saídas `l` e `l2` representam, respectivamente, $\\lambda _1$ e $\\lambda _2$.\n",
    "\n",
    "\n",
    "O resultado não mostrou uma igualdade entre todos os valores dos $\\lambda$, particularmente a variável `l2` do código, que não era uma matriz com autovetores nas diagonais e sim uma matriz que possui um valor não nulo no seu canto superior direito. Isso nos mostra que $V_2$ não é um autovetor de $X$, portanto, $v$ não é um autovetor de $X$."
   ]
  },
  {
   "cell_type": "markdown",
   "metadata": {},
   "source": []
  },
  {
   "cell_type": "markdown",
   "metadata": {},
   "source": []
  },
  {
   "cell_type": "markdown",
   "metadata": {},
   "source": []
  },
  {
   "cell_type": "markdown",
   "metadata": {},
   "source": []
  },
  {
   "attachments": {},
   "cell_type": "markdown",
   "metadata": {},
   "source": [
    "# Exercício 2\n",
    "\n",
    "Um possível modelo para o controle de doenças é o modelo SI (Suscetível - Infectado). Nesse modelo, uma pessoa pode estar ou suscetível ou infectada. Uma pessoa suscetível não tem a doença, mas pode contraí-la a qualquer momento. Uma pessoa infectada tem a doença, mas pode se recuperar.\n",
    "\n",
    "A cada semana, uma pessoa suscetível tem uma probabilidade de continuar saudável e uma probabilidade de ficar infectada. Da mesma forma, uma pessoa que está infectada tem uma probabilidade de continuar infectada e uma probabilidade de se recuperar, voltando a estar suscetível.\n",
    "\n",
    "Esse modelo foi aplicado para a doença (fictícia!) algelinite, que faz a pessoa doente ficar azul e cheia de bolinhas amarelas. Uma pessoa com algelininte não consegue trabalhar, nem estudar, nem se divertir. A pessoa com algelinite precisa de um leito de hospital até sua recuperação completa.\n",
    "\n",
    "Através de pesquisas, cientistas determinaram que:, a cada semana:\n",
    "\n",
    "* A probabilidade de uma pessoa suscetível se infectar com algelininte é $0.01$ (e, por consequência, a probabilidade de simplesmente continuar suscetível é $0.99$).\n",
    "* A probabilidade de uma pessoa infectada se recuperar (se estiver num leito hospitalar) é $0.2$ (e, por consequência, a probabilidade de continuar doente é $0.8$).\n",
    "\n",
    "Na cidade de São Paulo há 10 milhões de pessoas, inicialmente saudáveis. Quantos leitos de hospital são tipicamente necessários para controlar a algelininte na capital paulista ao longo de um tempo longo? Justifique sua resposta!"
   ]
  },
  {
   "cell_type": "code",
   "execution_count": 7,
   "metadata": {},
   "outputs": [
    {
     "name": "stdout",
     "output_type": "stream",
     "text": [
      "[[9523809.52380952]\n",
      " [ 476190.47619048]]\n"
     ]
    },
    {
     "data": {
      "text/plain": [
       "476191.0"
      ]
     },
     "execution_count": 7,
     "metadata": {},
     "output_type": "execute_result"
    }
   ],
   "source": [
    "import numpy as np\n",
    "\n",
    "# probabilidades descritas na questão acima (cada coluna representa uma classe de cidadão)\n",
    "probabilidades = np.array([[0.99,0.2],\n",
    "                           [0.01, 0.8]])\n",
    "\n",
    "# número de habitantes em cada classe\n",
    "habitantes = np.array([[10**7,0]]).T\n",
    "\n",
    "# realizando o cálculo ao longo de 100 semanas\n",
    "for _ in range(10000):\n",
    "    habitantes = probabilidades @ habitantes\n",
    "\n",
    "# printando os resultados\n",
    "print(habitantes)\n",
    "np.ceil(habitantes[1][0])"
   ]
  },
  {
   "attachments": {},
   "cell_type": "markdown",
   "metadata": {},
   "source": [
    "# Resposta do Exercício 2\n",
    "Este problema é um exemplo claro de matrizes de transiçao. Inicialmente temos uma matriz quadrada de $2\\times 2$, cada coluna representa a classe atual de cidadão e cada linha representa a chance do cidadão ir para aquela classe. Para ilustrar o modelo, criei a tabela abaixo:\n",
    "\n",
    "* S -> Suscetível\n",
    "* I -> Infectado\n",
    "\n",
    "|       | **S** | **I** |\n",
    "|-------|-------|-------|\n",
    "| **S** | 0.99  | 0.2   | \n",
    "| **I** | 0.01  | 0.8   | \n",
    "\n",
    "A matriz correpondente de $Probabilidades$ ou $P$ (para ser sucinto) ficaria da seguinte maneira:\n",
    "\n",
    "$$\n",
    "P = \n",
    "\\begin{bmatrix}\n",
    "    0.99 & 0.2 \\\\\n",
    "    0.01 & 0.8 \\\\\n",
    "\\end{bmatrix}\n",
    "$$\n",
    "\n",
    "Os elementos da linha i e coluna j desta matriz representam a probabilidade de \"sairmos\" da situação da coluna e chegar no estado da linha.\n",
    "\n",
    "Para checar quantos habitantes estariam infectados após um longo tempo, basta realizar o processo de multiplicação ($H = AH$) um grande número de vezes. Nossa matriz $H$ tem o número de habitantes em cada situação (infectado ou suscetível).\n",
    "\n",
    "O número escolhido foi 100 vezes. Isso essencialmente significa que fizemos o processo descrito abaixo:\n",
    "\n",
    "$$\n",
    "H = P^{100}H\n",
    "$$\n",
    "\n",
    "Ao final, temos que, após 100 semanas, seriam necessários 47620 leitos hospitalares segundo os cálculos."
   ]
  },
  {
   "cell_type": "markdown",
   "metadata": {},
   "source": []
  },
  {
   "cell_type": "markdown",
   "metadata": {},
   "source": []
  },
  {
   "cell_type": "markdown",
   "metadata": {},
   "source": []
  },
  {
   "attachments": {},
   "cell_type": "markdown",
   "metadata": {},
   "source": [
    "# Exercício 3\n",
    "\n",
    "Um grupo de cientistas de dados coletou dados sobre os hábitos de estudo de alunos de uma sala de aula do ensino médio. Os dados coletados, para cada aluno, são a sua nota na prova final de Filosofia e o tempo que cada aluno passou estudando.\n",
    "\n",
    "Os dados do tempo de estudo ($t$) e da nota da na prova ($y$) estão abaixo.\n",
    "\n",
    "Embora os alunos tenham reclamado que a prova estava difícil, a coordenação da escola argumentou que está claro que, quanto maior o tempo de estudo, maior foi a nota na prova. Ainda, uma das diretrizes da escola diz que as provas são planejadas para que, com 4h de estudo, seja absolutamente factível tirar nota 8 na prova. A coordenção da escola diz que a nota, inclusive, pode ser predita com um modelo linear do tipo $y=at+b$.\n",
    "\n",
    "Como representante da equipe de ciência de dados:\n",
    "\n",
    "1. Argumente sobre se o modelo proposto pela coordenação é adequado para prever as notas dos alunos, e, se for o caso, proponha um modelo diferente,\n",
    "1. Usando `autograd`, encontre os parâmetros do modelo que permite prever a nota com base no tempo de estudo,\n",
    "1. Mostre uma figura com os pontos medidos sobrepostos a uma linha que evidencie as predições do modelo,\n",
    "1. Usando os parâmetros do modelo que você escolheu, decida se é factível tirar nota 8 na prova com 4h de estudo."
   ]
  },
  {
   "cell_type": "code",
   "execution_count": 5,
   "metadata": {},
   "outputs": [
    {
     "data": {
      "image/png": "[encoded data removed]",
      "text/plain": [
       "<Figure size 432x288 with 1 Axes>"
      ]
     },
     "metadata": {
      "needs_background": "light"
     },
     "output_type": "display_data"
    }
   ],
   "source": [
    "import matplotlib.pyplot as plt\n",
    "\n",
    "t = [0.0, 0.0, 0.1, 0.1, 0.2, 0.2, 0.2, 0.3, 0.3, 0.4, 0.4, 0.4, 0.5, 0.5, 0.6, 0.6, 0.7, 0.7, 0.7, 0.8, 0.8, 0.9, 0.9, 0.9, 1.0, 1.0, 1.1, 1.1, 1.1, 1.2, 1.2, 1.3, 1.3, 1.3, 1.4, 1.4, 1.5, 1.5, 1.6, 1.6, 1.6, 1.7, 1.7, 1.8, 1.8, 1.8, 1.9, 1.9, 2.0, 2.0]\n",
    "y = [2.0, 2.1, 2.1, 2.5, 2.2, 2.3, 2.5, 2.6, 2.6, 2.8, 2.8, 3.1, 3.0, 3.2, 3.2, 3.4, 3.5, 3.5, 3.5, 3.6, 3.6, 3.7, 4.0, 3.8, 4.0, 4.1, 4.2, 4.2, 4.1, 4.3, 4.3, 4.5, 4.7, 4.5, 4.8, 4.8, 4.9, 5.2, 4.9, 5.1, 5.3, 5.4, 5.6, 5.5, 5.3, 5.6, 5.8, 5.7, 5.8, 5.9]\n",
    "\n",
    "plt.figure()\n",
    "plt.scatter(t,y)\n",
    "plt.xlabel('Tempo de estudo (h)')\n",
    "plt.ylabel('Nota na prova')\n",
    "plt.show()"
   ]
  },
  {
   "attachments": {},
   "cell_type": "markdown",
   "metadata": {},
   "source": [
    "# Respostas"
   ]
  },
  {
   "attachments": {},
   "cell_type": "markdown",
   "metadata": {},
   "source": [
    "1. O modelo da coordenação, do ponto de vista teórico, faz sentido. Você vai aprendendo conforme você se dedica aos seus estudos. É claro que esse aprendizado não segue o mesmo formato para todos, mas é uma regra geral que é amplamente aceita e praticada por estudantes e professores. "
   ]
  },
  {
   "cell_type": "code",
   "execution_count": 16,
   "metadata": {},
   "outputs": [
    {
     "name": "stdout",
     "output_type": "stream",
     "text": [
      "A = 1.9268113646269032\n",
      "B = 2.0744070631827025\n"
     ]
    }
   ],
   "source": [
    "import autograd.numpy as np_   # Thinly-wrapped version of Numpy\n",
    "from autograd import grad\n",
    "\n",
    "def erro(param):\n",
    "    a,b,n,t = param\n",
    "    t_ = a*n + b\n",
    "    return np_.mean((t_ - t)**2)\n",
    "\n",
    "n = np.array(t)*1.0\n",
    "alvo = np.array(y)*1.0\n",
    "\n",
    "g = grad(erro)\n",
    "\n",
    "A, B = 0.3, 0.5\n",
    "\n",
    "alpha = 0.1\n",
    "\n",
    "for _ in range(100):\n",
    "    a_, b_, n_, alvo_ = g( (A, B, n, alvo) )\n",
    "    A -= alpha*a_\n",
    "    B -= alpha*b_\n",
    "\n",
    "print(f\"A = {A}\\nB = {B}\")"
   ]
  },
  {
   "attachments": {},
   "cell_type": "markdown",
   "metadata": {},
   "source": [
    "2. O código acima nos mostra que os parâmetros utilizados na fórmula $y = at+b$ deveriam ser:\n",
    "\n",
    "$$\n",
    "\\hspace{0.5in}\n",
    "a = 1.9268113646269032\n",
    "\\hspace{0.2in}\n",
    "b = 2.0744070631827025\n",
    "$$\n",
    "\n",
    "Lembrando que $t$ é o tempo de estudo e $y$ a nota final."
   ]
  },
  {
   "cell_type": "code",
   "execution_count": 22,
   "metadata": {},
   "outputs": [
    {
     "data": {
      "image/png": "[encoded data removed]",
      "text/plain": [
       "<Figure size 432x288 with 1 Axes>"
      ]
     },
     "metadata": {
      "needs_background": "light"
     },
     "output_type": "display_data"
    }
   ],
   "source": [
    "import matplotlib.pyplot as plt\n",
    "plt.figure()\n",
    "plt.title(\"Comparação - Aproximação Linear e Resultados Medidos\")\n",
    "plt.scatter(n,alvo, label='Medições')\n",
    "plt.plot(n,A*n + B, color=\"r\", label='Modelo')\n",
    "plt.ylabel(\"Nota na Prova\")\n",
    "plt.xlabel(\"Tempo de Estudo (horas)\")\n",
    "plt.legend()\n",
    "plt.show()"
   ]
  },
  {
   "attachments": {},
   "cell_type": "markdown",
   "metadata": {},
   "source": [
    "3. A figura *Comparação - Aproximação Linear e Resultados Medidos* nos mostra essa linha e os pontos que nos foram dados. Isso evidencia que o modelo linear se diz verdadeiro para esse caso, com a linha vermelha acompanhando o trajeto dos pontos com uma proximidade grande."
   ]
  },
  {
   "cell_type": "code",
   "execution_count": 25,
   "metadata": {},
   "outputs": [
    {
     "name": "stdout",
     "output_type": "stream",
     "text": [
      "Nota do Aluno que estudou 4h: 9.781652521690315\n"
     ]
    }
   ],
   "source": [
    "print(\"Nota do Aluno que estudou 4h:\", A*4 + B)"
   ]
  },
  {
   "attachments": {},
   "cell_type": "markdown",
   "metadata": {},
   "source": [
    "4. Acima, está um pequeno trecho de código que nos trás o resultado esperado de um aluno que estudou 4 horas antes da prova (segundo nosso modelo). O seu resultado é de aproximadamente 9.78, sendo mais de 1 ponto acima dos 8 que foram planejados segundo as diretrizes da escola. Desta maneira, é sim factível uma pessoa tirar 8 na prova após estudar por 4 horas, apesar disso, o mais provável é que sua nota seja maior ainda."
   ]
  },
  {
   "cell_type": "markdown",
   "metadata": {},
   "source": []
  },
  {
   "cell_type": "markdown",
   "metadata": {},
   "source": []
  },
  {
   "cell_type": "markdown",
   "metadata": {},
   "source": []
  },
  {
   "attachments": {},
   "cell_type": "markdown",
   "metadata": {},
   "source": [
    "# Exercício 4\n",
    "\n",
    "Após realizar a compressão de uma sequência com o Código de Huffman, obtemos a seguinte árvore:\n",
    "\n",
    "<img src=\"arvore.png\" />\n",
    "\n"
   ]
  },
  {
   "attachments": {},
   "cell_type": "markdown",
   "metadata": {},
   "source": [
    "\n",
    "1. Qual é a codificação da sequência: `ABBCBAAACD`?\n",
    "1. Qual é a sequência cuja codificação é: `010110111111110100`?"
   ]
  },
  {
   "attachments": {},
   "cell_type": "markdown",
   "metadata": {},
   "source": [
    "# Resposta do Exercício 4\n",
    "Primeiramente, iremos analisar letra a letra qual seria seu código de huffman. A tabela abaixo ajuda a ilustrar.\n",
    "\n",
    "|       | **Código de Huffman** | \n",
    "|-------|-------|\n",
    "| **A** | 0   | \n",
    "| **B** | 10  |\n",
    "| **C** | 110 |\n",
    "| **D** | 111 |\n",
    "\n",
    "Agora, podemos responder com clareza as questões.\n",
    "\n",
    "### 1 - Qual é a codificação da sequência: `ABBCBAAACD`?\n",
    "\n",
    "A codificação da sequência `ABBCBAAACD` é:\n",
    "\n",
    "* `0101011010000110111`\n",
    "\n",
    "Isso fica nítido ao separarmos as letras individualmente, nos dando a sequência:\n",
    "\n",
    "* `0 10 10 110 10 0 0 0 110 111`\n",
    "\n",
    "\n",
    "### 2 - Qual é a sequência cuja codificação é: `010110111111110100`?\n",
    "\n",
    "A sequência cuja codificação é `010110111111110100` é:\n",
    "\n",
    "* `ABCDDCBA`\n",
    "\n",
    "Isso fica nítido ao separarmos as letras individualmente, nos dando a sequência:\n",
    "\n",
    "* `0 10 110 111 111 110 10 0`\n",
    "\n",
    "#### Qualquer Dúvida -> Consulte a Tabela"
   ]
  }
 ],
 "metadata": {
  "kernelspec": {
   "display_name": "math",
   "language": "python",
   "name": "python3"
  },
  "language_info": {
   "codemirror_mode": {
    "name": "ipython",
    "version": 3
   },
   "file_extension": ".py",
   "mimetype": "text/x-python",
   "name": "python",
   "nbconvert_exporter": "python",
   "pygments_lexer": "ipython3",
   "version": "3.11.5"
  },
  "orig_nbformat": 4
 },
 "nbformat": 4,
 "nbformat_minor": 2
}
