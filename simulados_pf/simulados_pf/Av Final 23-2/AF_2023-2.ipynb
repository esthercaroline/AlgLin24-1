{
 "cells": [
  {
   "attachments": {},
   "cell_type": "markdown",
   "metadata": {},
   "source": [
    "# Avaliação Final\n",
    "\n",
    "NOME: \n",
    "\n",
    "\n",
    "E-MAIL: "
   ]
  },
  {
   "attachments": {},
   "cell_type": "markdown",
   "metadata": {},
   "source": [
    "Esta é a A.F. de Álgebra Linear e Teoria da Informação de 2s2023.\n",
    "\n",
    "INSTRUÇÕES:\n",
    "\n",
    "1. Faça todas as questões\n",
    "1. Salve o notebook\n",
    "1. Envie o notebook salvo no Blackboard\n",
    "\n",
    "IMPORTANTE:\n",
    "\n",
    "* Você pode consultar qualquer material ou IA, mas não qualquer colega ou pessoa humana, presente ou não na prova.\n",
    "* Não é permitida a utilização de geradores de texto, como o GPT-3. É permitida somente a utilização do copilot.\n",
    "* O envio da prova será fechado às 11h45. Aqueles que não enviarem o material até este horário ficarão com zero.\n",
    "* A prova vale um total de 10 pontos. Cada questão vale 2.5 pontos.\n",
    "* Os conceitos F, E, D, C, B, A serão mapeados para 0, 2, 4, 6, 8 e 10.\n",
    "* Para todas as questões, usaremos a rubrica que segue anexa a esta prova. Há uma rubrica para a justificativa e uma rubrica para o código. A nota da questão é a menor entre as notas da justificativa e do código.\n"
   ]
  },
  {
   "attachments": {},
   "cell_type": "markdown",
   "metadata": {},
   "source": [
    "# Exercício 1\n",
    "\n",
    "A matriz $X$ é:\n",
    "\n",
    "$$\n",
    "X = \\begin{bmatrix} 0.95 & -0.75 \\\\ 0.25 & -0.05 \\end{bmatrix}\n",
    "$$\n",
    "\n",
    "Um auto-vetor de X é:\n",
    "$$\n",
    "v = \\begin{bmatrix} 3 \\\\ 1 \\end{bmatrix}\n",
    "$$\n",
    "\n",
    "Quais dentre os valores abaixo seriam auto-valores de $X$ em par com o auto-vetor $v$? Justifique sua resposta.\n",
    "\n",
    "[ ] 0.2\n",
    "\n",
    "[ ] 0.31\n",
    "\n",
    "[X] 0.7\n",
    "\n",
    "[ ] 0.7071\n",
    "\n",
    "[ ] 0.94\n",
    "\n",
    "[ ] 1\n",
    "\n",
    "[ ] 2.1\n",
    "\n",
    "[ ] 3"
   ]
  },
  {
   "cell_type": "code",
   "execution_count": 31,
   "metadata": {},
   "outputs": [
    {
     "name": "stdout",
     "output_type": "stream",
     "text": [
      "X\n",
      "[[ 0.95 -0.75]\n",
      " [ 0.25 -0.05]]\n",
      "\n",
      "v\n",
      "[0.7 0.2]\n",
      "\n",
      "w\n",
      "[[0.9486833  0.70710678]\n",
      " [0.31622777 0.70710678]]\n",
      "\n",
      "X @ V\n",
      "[2.1 0.7]\n",
      "Autovetor encontrado com lambda =  0.6999999999999392\n",
      "0.6999999999999392\n"
     ]
    }
   ],
   "source": [
    "import numpy as np\n",
    "\n",
    "X = np.array([[0.95, -0.75], \n",
    "              [0.25, -0.05]])\n",
    "\n",
    "\n",
    "print(\"X\")\n",
    "print(X)\n",
    "print(\"\")\n",
    "\n",
    "v, w = np.linalg.eig(X) # v = eigenvalues, w = eigenvectors\n",
    "print(\"v\")\n",
    "print(v)\n",
    "print(\"\")\n",
    "print(\"w\")\n",
    "print(w)\n",
    "print(\"\")\n",
    "\n",
    "V = np.array([3, 1]).T\n",
    "\n",
    "print(\"X @ V\")\n",
    "print(X @ V)\n",
    "\n",
    "def verifica_se_eh_autovetor(X, V):\n",
    "    mult = X @ V\n",
    "    # Se o vetor for um autovetor, deve ter um lambda tal que X @ V = lambda * V\n",
    "    alpha = 0.0001\n",
    "    while True:\n",
    "        if np.allclose(mult, alpha * V):\n",
    "            print(\"Autovetor encontrado com lambda = \", alpha)\n",
    "            return alpha\n",
    "        alpha += 0.0001\n",
    "        if alpha > 10:\n",
    "            print(\"Não é autovetor\")\n",
    "            return None\n",
    "\n",
    "print(verifica_se_eh_autovetor(X, V))"
   ]
  },
  {
   "cell_type": "markdown",
   "metadata": {},
   "source": [
    "$$\n",
    "\\begin{bmatrix} 0.95 & -0.75 \\\\ 0.25 & -0.05 \\end{bmatrix} \\begin{bmatrix} 3 \\\\ 1 \\end{bmatrix} = \\lambda \\begin{bmatrix} 3 \\\\ 1 \\end{bmatrix} = \\begin{bmatrix} 2.1 \\\\ 0.7 \\end{bmatrix}\n",
    "$$"
   ]
  },
  {
   "attachments": {},
   "cell_type": "markdown",
   "metadata": {},
   "source": [
    "# Exercício 2\n",
    "\n",
    "Você recebeu a importante tarefa de analisar um conjunto de dados contendo informações de uma famosa série animada japonesa. Por ser expecialista em Álgebra Linear, você decidiu aplicar a projeção PCA para reduzir a dimensionalidade dos dados. Assim, utilize o conjunto de dados fornecido com a prova (retirado [daqui](https://www.kaggle.com/datasets/dinishsubaramaniam/op-episodes-and-arcs/)), aplique a projeção PCA nele e decida qual o número de dimensões que você usaria para representar os dados. Justifique sua resposta."
   ]
  },
  {
   "cell_type": "code",
   "execution_count": 50,
   "metadata": {},
   "outputs": [
    {
     "name": "stdout",
     "output_type": "stream",
     "text": [
      "Variância explicada por cada componente: [8.29668590e-01 1.26624205e-01 3.22212282e-02 1.14854067e-02\n",
      " 4.90698837e-07 7.94306742e-08]\n",
      "Número de componentes para explicar 90% da variância: 2\n"
     ]
    }
   ],
   "source": [
    "from sklearn.decomposition import PCA\n",
    "import pandas as pd\n",
    "\n",
    "df = pd.read_csv('one piece arcs.csv').select_dtypes(['number'])\n",
    "numeric_columns = df.to_numpy()\n",
    "\n",
    "# Normalizar os dados\n",
    "df_normalized = (df - df.mean()) / df.std()\n",
    "\n",
    "# Aplicar a PCA\n",
    "pca = PCA()\n",
    "pca.fit(df_normalized)\n",
    "\n",
    "# Analisar a variância explicada\n",
    "explained_variance_ratio = pca.explained_variance_ratio_\n",
    "print(\"Variância explicada por cada componente:\", explained_variance_ratio)\n",
    "\n",
    "# componentes = pca.components_\n",
    "# print(\"Componentes principais:\")\n",
    "# print(componentes)\n",
    "\n",
    "# Calcular a proporção acumulada da variância explicada\n",
    "cumulative_explained_variance_ratio = explained_variance_ratio.cumsum()\n",
    "\n",
    "# Encontrar o número de componentes principais para explicar, por exemplo, 90% da variância\n",
    "n_components_90 = (cumulative_explained_variance_ratio < 0.90).sum() + 1\n",
    "\n",
    "print(\"Número de componentes para explicar 90% da variância:\", n_components_90)"
   ]
  },
  {
   "cell_type": "markdown",
   "metadata": {},
   "source": []
  },
  {
   "cell_type": "markdown",
   "metadata": {},
   "source": [
    "# Exercício 3\n",
    "\n",
    "Um grupo de estudos do meio ambiente no planeta de Kabum Prime possui um balão meteorológico que coleta diversos dados sobre a atmosfera.\n",
    "\n",
    "Foi desenvolvido um novo sensor e os cientistas estão analisando se devem incorporar ele ao balão.\n",
    "\n",
    "O sensor atual suporta uma temperatura de -50 graus Celsius.\n",
    "\n",
    "O novo sensor suporta uma temperatura de -70 graus Celsius.\n",
    "\n",
    "O grupo de estudos mediu a temperatura da atmosfera em diversos pontos e obteve os dados apresentados abaixo.\n",
    "\n",
    "Utilizando o método de descida pelo gradiente com um modelo linear do tipo $y=ax+b$ responda: Qual a altura máxima aproximada que o balão pode atingir com o novo sensor?"
   ]
  },
  {
   "cell_type": "code",
   "execution_count": 33,
   "metadata": {},
   "outputs": [
    {
     "data": {
      "image/png": "[encoded data removed]",
      "text/plain": [
       "<Figure size 640x480 with 1 Axes>"
      ]
     },
     "metadata": {},
     "output_type": "display_data"
    }
   ],
   "source": [
    "import matplotlib.pyplot as plt\n",
    "import random\n",
    "\n",
    "altura = np.array([1.4, 3.0, 3.7, 4.0, 4.4, 4.5, 4.7, 4.8, 5.4, 5.6, 6.9, 7.0, 7.9, 8.0, 9.0, 9.3, 10.2, 10.2, 10.3, 10.5, 10.5, 10.6, 11.0, 12.2, 12.8, 13.6, 14.0, 14.2, 15.2, 15.2, 15.3, 16.0, 16.8, 17.7, 18.0, 18.9, 19.3, 19.6, 20.6, 20.6, 20.6, 21.3, 22.1, 22.5, 23.5, 23.7, 23.9, 24.0, 24.1, 24.8])\n",
    "temperatura = np.array([24.5, 24.5, 24.3, 24.0, 22.3, 22.1, 21.2, 20.1, 19.6, 19.3, 18.8, 19.0, 18.5, 17.4, 16.6, 16.4, 15.4, 15.1, 14.5, 13.7, 12.2, 11.3, 9.7, 7.2, 5.5, 4.3, 3.1, 1.5, -0.7, -2.3, -2.9, -4.6, -6.1, -7.5, -9.7, -11.9, -13.6, -16.5, -18.7, -21.8, -24.5, -26.9, -29.0, -31.1, -33.6, -36.2, -38.9, -41.8, -44.0, -46.9])\n",
    "\n",
    "plt.figure()\n",
    "plt.scatter(altura,temperatura)\n",
    "plt.xlabel('Altitude (Km)')\n",
    "plt.ylabel('Temperatura (°C)')\n",
    "plt.show()"
   ]
  },
  {
   "cell_type": "code",
   "execution_count": 36,
   "metadata": {},
   "outputs": [
    {
     "data": {
      "image/png": "[encoded data removed]",
      "text/plain": [
       "<Figure size 640x480 with 1 Axes>"
      ]
     },
     "metadata": {},
     "output_type": "display_data"
    }
   ],
   "source": [
    "import numpy as np\n",
    "import matplotlib.pyplot as plt\n",
    "import autograd.numpy as np_\n",
    "from autograd import grad\n",
    "\n",
    "altura = np.array([1.4, 3.0, 3.7, 4.0, 4.4, 4.5, 4.7, 4.8, 5.4, 5.6, 6.9, 7.0, 7.9, 8.0, 9.0, 9.3, 10.2, 10.2, 10.3, 10.5, 10.5, 10.6, 11.0, 12.2, 12.8, 13.6, 14.0, 14.2, 15.2, 15.2, 15.3, 16.0, 16.8, 17.7, 18.0, 18.9, 19.3, 19.6, 20.6, 20.6, 20.6, 21.3, 22.1, 22.5, 23.5, 23.7, 23.9, 24.0, 24.1, 24.8])\n",
    "temperatura = np.array([24.5, 24.5, 24.3, 24.0, 22.3, 22.1, 21.2, 20.1, 19.6, 19.3, 18.8, 19.0, 18.5, 17.4, 16.6, 16.4, 15.4, 15.1, 14.5, 13.7, 12.2, 11.3, 9.7, 7.2, 5.5, 4.3, 3.1, 1.5, -0.7, -2.3, -2.9, -4.6, -6.1, -7.5, -9.7, -11.9, -13.6, -16.5, -18.7, -21.8, -24.5, -26.9, -29.0, -31.1, -33.6, -36.2, -38.9, -41.8, -44.0, -46.9])\n",
    "\n",
    "altura_ = np_.array(altura)\n",
    "temperatura_ = np_.array(temperatura)\n",
    "\n",
    "def loss ( parameters ):\n",
    "    A, B, altura, temperatura = parameters\n",
    "    estimativa = A*altura + B\n",
    "    erro = np_.mean((estimativa - temperatura)**2)\n",
    "    return erro\n",
    "\n",
    "dloss = grad(loss)\n",
    "\n",
    "\n",
    "A = 0.0\n",
    "B = 0.0\n",
    "alpha = 10**-3\n",
    "\n",
    "\n",
    "for i in range(10000):\n",
    "    g = dloss( (A,B,altura_,temperatura_) )\n",
    "    A -= alpha * g[0]\n",
    "    B -= alpha * g[1]\n",
    "\n",
    "funcao_feita_por_mim = A*altura_ + B\n",
    "\n",
    "plt.figure()\n",
    "plt.scatter(altura,temperatura)\n",
    "plt.plot(altura,funcao_feita_por_mim, color='red')\n",
    "plt.xlabel('Altitude (Km)')\n",
    "plt.ylabel('Temperatura (°C)')\n",
    "plt.show()"
   ]
  },
  {
   "cell_type": "code",
   "execution_count": 40,
   "metadata": {},
   "outputs": [
    {
     "name": "stdout",
     "output_type": "stream",
     "text": [
      "36.617347247846446\n",
      "-69.9480550595578\n"
     ]
    }
   ],
   "source": [
    "# Descobrir qual é a altura que pode chegar com -70°C\n",
    "\n",
    "def funcao_inversa(temperatura, A, B):\n",
    "    return (temperatura - B) / A\n",
    "\n",
    "print(funcao_inversa(-70, A, B))\n",
    "\n",
    "# Descobrir qual é a temperatura que pode chegar com 30km de altura\n",
    "\n",
    "print(A*36.6 + B)"
   ]
  },
  {
   "cell_type": "markdown",
   "metadata": {},
   "source": []
  },
  {
   "attachments": {},
   "cell_type": "markdown",
   "metadata": {},
   "source": [
    "# Exercício 4\n",
    "\n",
    "1. Apresente a árvore de Huffman para a palavra `COELHO`.\n",
    "1. Qual é a codificação da palavra `COELHO` na árvore apresentada?\n",
    "1. Qual é o limite inferior para o número de bits que devem ser usados para representar essa palavra?"
   ]
  },
  {
   "attachments": {},
   "cell_type": "markdown",
   "metadata": {},
   "source": []
  },
  {
   "cell_type": "code",
   "execution_count": 35,
   "metadata": {},
   "outputs": [
    {
     "data": {
      "text/plain": [
       "13.509775004326938"
      ]
     },
     "execution_count": 35,
     "metadata": {},
     "output_type": "execute_result"
    }
   ],
   "source": [
    "import numpy as np\n",
    "import scipy.stats as stats\n",
    "palavra = \"COELHO\"\n",
    "probs = np.array(  [palavra.count(w) for w in set(palavra)])/len(palavra)\n",
    "E = stats.entropy(probs, base=2)\n",
    "E*len(palavra)"
   ]
  }
 ],
 "metadata": {
  "kernelspec": {
   "display_name": "math",
   "language": "python",
   "name": "python3"
  },
  "language_info": {
   "codemirror_mode": {
    "name": "ipython",
    "version": 3
   },
   "file_extension": ".py",
   "mimetype": "text/x-python",
   "name": "python",
   "nbconvert_exporter": "python",
   "pygments_lexer": "ipython3",
   "version": "3.11.5"
  },
  "orig_nbformat": 4
 },
 "nbformat": 4,
 "nbformat_minor": 2
}
