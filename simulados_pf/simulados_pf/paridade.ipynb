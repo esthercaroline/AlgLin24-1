{
 "cells": [
  {
   "cell_type": "code",
   "execution_count": null,
   "metadata": {},
   "outputs": [],
   "source": [
    "def paridades(bits):\n",
    "    paridade_1 = (bits[0] + bits[2] + bits[4] + bits[6]) % 2\n",
    "    paridade_2 = (bits[1] + bits[2] + bits[5] + bits[6]) % 2\n",
    "    paridade_3 = (bits[3] + bits[4] + bits[5] + bits[6]) % 2\n",
    "    return [paridade_1, paridade_2, paridade_3]\n",
    "\n",
    "def detectar_erro(bits_de_dados, bits_de_paridade):\n",
    "    paridade_nova = paridades(bits_de_dados)\n",
    "    if paridade_nova == bits_de_paridade:\n",
    "        return -1\n",
    "    \n",
    "    binario = []\n",
    "    for i in range(3):\n",
    "        if paridade_nova[i] != bits_de_paridade[i]:\n",
    "            binario.append(1)\n",
    "        else:\n",
    "            binario.append(0)\n",
    "    bit_errado = 0\n",
    "    for i in range(3):\n",
    "        bit_errado += binario[i] * 2**i\n",
    "    return bit_errado\n",
    "\n",
    "bits_de_dados = [1, 1, 0, 1, 0, 0, 1]\n",
    "bits_de_paridade = paridades(bits_de_dados)\n",
    "bits_de_dados[2] = 1\n",
    "erro = detectar_erro(bits_de_dados, bits_de_paridade)\n",
    "print(erro)"
   ]
  }
 ],
 "metadata": {
  "language_info": {
   "name": "python"
  }
 },
 "nbformat": 4,
 "nbformat_minor": 2
}
