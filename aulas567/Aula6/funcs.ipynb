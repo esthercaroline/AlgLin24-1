{
 "cells": [
  {
   "cell_type": "code",
   "execution_count": null,
   "metadata": {},
   "outputs": [],
   "source": [
    "def eqm( parametros ): # Essa função calcula o erro quadrático médio entre as medições e um modelo\n",
    "    medidas_x, medidas_y, coef_angular_modelo, coef_linear_modelo = parametros\n",
    "    # Complete esta função\n",
    "    y_reta = coef_angular_modelo * medidas_x + coef_linear_modelo\n",
    "    dists = (medidas_y - y_reta)**2\n",
    "    eqm_ = sum(dists)/len(medidas_x)\n",
    "\n",
    "    return eqm_"
   ]
  },
  {
   "cell_type": "code",
   "execution_count": null,
   "metadata": {},
   "outputs": [],
   "source": [
    "def deqm_da(medidas_x, medidas_y, coef_angular_tentativa): # Essa função calcula o erro quadrático médio entre as medições e um modelo\n",
    "    # Complete esta função\n",
    "    dEQM = sum(medidas_x * (coef_angular_tentativa * medidas_x - medidas_y)) * (2 / len(medidas_x))\n",
    "    return dEQM"
   ]
  },
  {
   "cell_type": "code",
   "execution_count": null,
   "metadata": {},
   "outputs": [],
   "source": [
    "def melhorar_modelo(medidas_x, medidas_y, alpha, a_atual):\n",
    "    a_novo = a_atual - alpha * deqm_da(medidas_x, medidas_y, a_atual)\n",
    "    return a_novo"
   ]
  }
 ],
 "metadata": {
  "language_info": {
   "name": "python"
  }
 },
 "nbformat": 4,
 "nbformat_minor": 2
}
