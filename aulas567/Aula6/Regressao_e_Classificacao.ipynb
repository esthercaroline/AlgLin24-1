{
 "cells": [
  {
   "cell_type": "markdown",
   "metadata": {},
   "source": [
    "# PL - Regressão e Classificação 1"
   ]
  },
  {
   "cell_type": "markdown",
   "metadata": {},
   "source": [
    "### Q1 - Considerando um modelo Ax + B e as medidas xi, yi apresentadas abaixo:"
   ]
  },
  {
   "cell_type": "code",
   "execution_count": 5,
   "metadata": {},
   "outputs": [
    {
     "name": "stdout",
     "output_type": "stream",
     "text": [
      "72.87126999999997\n"
     ]
    }
   ],
   "source": [
    "import numpy as np\n",
    "\n",
    "A = 8.00\n",
    "B = 14.00\n",
    "x = np.array([1.28, 3.37, 3.60, 4.46, 4.70, 5.67, 6.15, 8.02, 8.04, 9.16])\n",
    "y = np.array([29.91, 49.03, 35.13, 51.88, 44.43, 63.42, 64.69, 63.93, 61.14, 87.17])\n",
    "\n",
    "# Qual o valor do Erro Quadrático Médio?\n",
    "\n",
    "def eqm( parametros ):\n",
    "    medidas_x, medidas_y, coef_angular_modelo, coef_linear_modelo = parametros\n",
    "    y_reta = coef_angular_modelo * medidas_x + coef_linear_modelo\n",
    "    dists = (medidas_y - y_reta)**2\n",
    "    eqm_ = sum(dists)/len(medidas_x)\n",
    "\n",
    "    return eqm_\n",
    "\n",
    "EQM = eqm( [x, y, A, B] )\n",
    "print(EQM)"
   ]
  },
  {
   "cell_type": "markdown",
   "metadata": {},
   "source": [
    "### Q2 - Considerando um modelo Ax + B e as medidas xi, yi apresentadas abaixo:"
   ]
  },
  {
   "cell_type": "code",
   "execution_count": 6,
   "metadata": {},
   "outputs": [
    {
     "name": "stdout",
     "output_type": "stream",
     "text": [
      "EQM_a: 184.35654000000002\n",
      "EQM_b: 775.4880599999999\n",
      "EQM_c: 107.03821999999995\n",
      "EQM_d: 215.7937\n",
      "EQM_e: 99.37026\n"
     ]
    }
   ],
   "source": [
    "import numpy as np\n",
    "\n",
    "x = np.array([1.07, 2.71, 3.31, 4.55, 4.80, 5.51, 7.26, 7.67, 8.92, 9.08])\n",
    "y = np.array([9.82, 50.62, 33.79, 41.62, 41.95, 47.05, 69.05, 56.85, 68.41, 83.52])\n",
    "\n",
    "# Qual dos seguintes pares de coeficientes angulares e lineares apresenta o menor Erro Quadrático Médio?\n",
    "\n",
    "# (a) A = 9, B = 10\n",
    "\n",
    "# (b) A = 2, B = 16\n",
    "\n",
    "# (c) A = 6, B = 12\n",
    "\n",
    "# (d) A = 8, B = 18\n",
    "\n",
    "# (e) A = 7, B = 17\n",
    "\n",
    "def eqm( parametros ):\n",
    "    medidas_x, medidas_y, coef_angular_modelo, coef_linear_modelo = parametros\n",
    "    y_reta = coef_angular_modelo * medidas_x + coef_linear_modelo\n",
    "    dists = (medidas_y - y_reta)**2\n",
    "    eqm_ = sum(dists)/len(medidas_x)\n",
    "\n",
    "    return eqm_\n",
    "\n",
    "A = 9\n",
    "B = 10\n",
    "EQM_a = eqm( [x, y, A, B] )\n",
    "\n",
    "A = 2\n",
    "B = 16\n",
    "EQM_b = eqm( [x, y, A, B] )\n",
    "\n",
    "A = 6\n",
    "B = 12\n",
    "EQM_c = eqm( [x, y, A, B] )\n",
    "\n",
    "A = 8\n",
    "B = 18\n",
    "EQM_d = eqm( [x, y, A, B] )\n",
    "\n",
    "A = 7\n",
    "B = 17\n",
    "EQM_e = eqm( [x, y, A, B] )\n",
    "\n",
    "print(f\"EQM_a: {EQM_a}\")\n",
    "print(f\"EQM_b: {EQM_b}\")\n",
    "print(f\"EQM_c: {EQM_c}\")\n",
    "print(f\"EQM_d: {EQM_d}\")\n",
    "print(f\"EQM_e: {EQM_e}\")"
   ]
  },
  {
   "cell_type": "markdown",
   "metadata": {},
   "source": [
    "### Q3 - Considerando um modelo Ax + B e as medidas xi, yi apresentadas abaixo:"
   ]
  },
  {
   "cell_type": "code",
   "execution_count": 7,
   "metadata": {},
   "outputs": [
    {
     "name": "stdout",
     "output_type": "stream",
     "text": [
      "EQM_inicial: 663.81456\n",
      "EQM_11_19: 160.20311999999998\n",
      "EQM_10_18: 365.95567000000005\n",
      "EQM_17_13: 410.73696\n",
      "EQM_19_26: 1757.2869600000001\n",
      "EQM_6_15: 2026.85527\n",
      "EQM_18_22: 1068.60079\n",
      "EQM_2_27: 3359.91831\n",
      "EQM_14_23: 109.57751000000007\n",
      "EQM_15_29: 445.0963200000002\n",
      "EQM_3_14: 4032.3650399999997\n"
     ]
    }
   ],
   "source": [
    "import numpy as np\n",
    "\n",
    "x = np.array([0.32, 1.08, 2.35, 4.31, 4.69, 4.98, 6.52, 8.22, 8.89, 9.37])\n",
    "y = np.array([25.85, 36.55, 61.09, 74.57, 85.65, 85.07, 106.82, 121.42, 127.02, 141.21])\n",
    "\n",
    "# Partindo de um modelo inicial onde A = 9 e B = 17.\n",
    "\n",
    "# Quais dos seguintes pares de coeficientes angulares e lineares apresentam Erro Quadrático Médio menor que o do modelo inicial?\n",
    "\n",
    "# A = 11, B = 19\n",
    "\n",
    "# A = 10, B = 18\n",
    "\n",
    "# A = 17, B = 13\n",
    "\n",
    "# A = 19, B = 26\n",
    "\n",
    "# A = 6, B = 15\n",
    "\n",
    "# A = 18, B = 22\n",
    "\n",
    "# A = 2, B = 27\n",
    "\n",
    "# A = 14, B = 23\n",
    "\n",
    "# A = 15, B = 29\n",
    "\n",
    "# A = 3, B = 14\n",
    "\n",
    "\n",
    "def eqm( parametros ):\n",
    "    medidas_x, medidas_y, coef_angular_modelo, coef_linear_modelo = parametros\n",
    "    y_reta = coef_angular_modelo * medidas_x + coef_linear_modelo\n",
    "    dists = (medidas_y - y_reta)**2\n",
    "    eqm_ = sum(dists)/len(medidas_x)\n",
    "\n",
    "    return eqm_\n",
    "\n",
    "A = 9\n",
    "B = 17\n",
    "EQM_inicial = eqm( [x, y, A, B] )\n",
    "\n",
    "A = 11\n",
    "B = 19\n",
    "EQM_11_19 = eqm( [x, y, A, B] )\n",
    "\n",
    "A = 10\n",
    "B = 18\n",
    "EQM_10_18 = eqm( [x, y, A, B] )\n",
    "\n",
    "A = 17\n",
    "B = 13\n",
    "EQM_17_13 = eqm( [x, y, A, B] )\n",
    "\n",
    "A = 19\n",
    "B = 26\n",
    "EQM_19_26 = eqm( [x, y, A, B] )\n",
    "\n",
    "A = 6\n",
    "B = 15\n",
    "EQM_6_15 = eqm( [x, y, A, B] )\n",
    "\n",
    "A = 18\n",
    "B = 22\n",
    "EQM_18_22 = eqm( [x, y, A, B] )\n",
    "\n",
    "A = 2\n",
    "B = 27\n",
    "EQM_2_27 = eqm( [x, y, A, B] )\n",
    "\n",
    "A = 14\n",
    "B = 23\n",
    "EQM_14_23 = eqm( [x, y, A, B] )\n",
    "\n",
    "A = 15\n",
    "B = 29\n",
    "EQM_15_29 = eqm( [x, y, A, B] )\n",
    "\n",
    "A = 3\n",
    "B = 14\n",
    "EQM_3_14 = eqm( [x, y, A, B] )\n",
    "\n",
    "print(f\"EQM_inicial: {EQM_inicial}\")\n",
    "print(f\"EQM_11_19: {EQM_11_19}\")\n",
    "print(f\"EQM_10_18: {EQM_10_18}\")\n",
    "print(f\"EQM_17_13: {EQM_17_13}\")\n",
    "print(f\"EQM_19_26: {EQM_19_26}\")\n",
    "print(f\"EQM_6_15: {EQM_6_15}\")\n",
    "print(f\"EQM_18_22: {EQM_18_22}\")\n",
    "print(f\"EQM_2_27: {EQM_2_27}\")\n",
    "print(f\"EQM_14_23: {EQM_14_23}\")\n",
    "print(f\"EQM_15_29: {EQM_15_29}\")\n",
    "print(f\"EQM_3_14: {EQM_3_14}\")"
   ]
  },
  {
   "cell_type": "markdown",
   "metadata": {},
   "source": [
    "# PL - Regressão e Classificação 2"
   ]
  },
  {
   "cell_type": "markdown",
   "metadata": {},
   "source": [
    "### Q1 - Uma determinada variável aleatória discreta apresenta a seguinte distribuição de probabilidades:"
   ]
  },
  {
   "cell_type": "code",
   "execution_count": 2,
   "metadata": {},
   "outputs": [
    {
     "name": "stdout",
     "output_type": "stream",
     "text": [
      "2.803515934782097\n"
     ]
    }
   ],
   "source": [
    "import numpy as np\n",
    "\n",
    "X = np.array([0.11, 0.20, 0.05, 0.04, 0.07, 0.00, 0.21, 0.23, 0.08, 0.01])\n",
    "\n",
    "# Qual a entropia em base 2 desta variável?\n",
    "\n",
    "import scipy.stats as stats\n",
    "print(stats.entropy(X, base=2))"
   ]
  },
  {
   "cell_type": "markdown",
   "metadata": {},
   "source": [
    "### Q2 - Uma determinada variável aleatória discreta é modelada por uma distribuição Binomial cuja probabilidade é 0.447 e o valor de N é 13. Qual a entropia em base 2 desta variável?"
   ]
  },
  {
   "cell_type": "code",
   "execution_count": 4,
   "metadata": {},
   "outputs": [
    {
     "name": "stdout",
     "output_type": "stream",
     "text": [
      "2.88776893345111\n"
     ]
    }
   ],
   "source": [
    "import scipy.stats as stats\n",
    "\n",
    "# Uma determinada variável aleatória discreta é modelada por uma distribuição Binomial \n",
    "# cuja probabilidade é 0.447 e o valor de N é 13. \n",
    "# Qual a entropia em base 2 desta variável?\n",
    "\n",
    "p = 0.447\n",
    "N = 13\n",
    "X = stats.binom(n=N, p=p).pmf(range(N+1))\n",
    "print(stats.entropy(X, base=2))"
   ]
  },
  {
   "cell_type": "markdown",
   "metadata": {},
   "source": [
    "### Q3 - Qual a entropia em base 2 relacionada a rolar um dado de 16 lados e obter como resultado a face 2?"
   ]
  },
  {
   "cell_type": "code",
   "execution_count": 6,
   "metadata": {},
   "outputs": [
    {
     "name": "stdout",
     "output_type": "stream",
     "text": [
      "0.3372900666170138\n"
     ]
    }
   ],
   "source": [
    "# Qual a entropia em base 2 relacionada a rolar um dado de 16 lados e obter como resultado a face 2?\n",
    "\n",
    "import scipy.stats as stats\n",
    "\n",
    "p = 1/16\n",
    "X = stats.bernoulli(p).pmf([0, 1])\n",
    "print(stats.entropy(X, base=2))"
   ]
  }
 ],
 "metadata": {
  "kernelspec": {
   "display_name": "Python 3",
   "language": "python",
   "name": "python3"
  },
  "language_info": {
   "codemirror_mode": {
    "name": "ipython",
    "version": 3
   },
   "file_extension": ".py",
   "mimetype": "text/x-python",
   "name": "python",
   "nbconvert_exporter": "python",
   "pygments_lexer": "ipython3",
   "version": "3.11.5"
  }
 },
 "nbformat": 4,
 "nbformat_minor": 2
}
