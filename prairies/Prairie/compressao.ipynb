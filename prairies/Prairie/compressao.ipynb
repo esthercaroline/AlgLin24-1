{
 "cells": [
  {
   "cell_type": "markdown",
   "metadata": {},
   "source": [
    "## Exercício 1"
   ]
  },
  {
   "cell_type": "markdown",
   "metadata": {},
   "source": [
    "Quantos bits tem o código de Huffman para a palavra \"numpy\""
   ]
  },
  {
   "cell_type": "code",
   "execution_count": 1,
   "metadata": {},
   "outputs": [
    {
     "name": "stdout",
     "output_type": "stream",
     "text": [
      "{'filho_0': {'filho_0': {'prob': 0.2, 'valor': 'Y'},\n",
      "             'filho_1': {'prob': 0.2, 'valor': 'P'},\n",
      "             'prob': 0.4,\n",
      "             'valor': 'NAO_FOLHA'},\n",
      " 'filho_1': {'filho_0': {'prob': 0.2, 'valor': 'M'},\n",
      "             'filho_1': {'filho_0': {'prob': 0.2, 'valor': 'N'},\n",
      "                         'filho_1': {'prob': 0.2, 'valor': 'U'},\n",
      "                         'prob': 0.4,\n",
      "                         'valor': 'NAO_FOLHA'},\n",
      "             'prob': 0.6000000000000001,\n",
      "             'valor': 'NAO_FOLHA'},\n",
      " 'prob': 1.0,\n",
      " 'valor': 'NAO_FOLHA'}\n"
     ]
    }
   ],
   "source": [
    "def huffman_tree(texto : str):\n",
    "    \"\"\"Monta a arvore de codificacao usando o algoritmo de huffman\"\"\"\n",
    "    def get_prob(item):\n",
    "        return item['prob']\n",
    "\n",
    "    f = []\n",
    "\n",
    "    # Calcula probabilidade de cada caractere      \n",
    "    for c in set(texto):\n",
    "        f.append(  {'prob':texto.count(c)/len(texto), 'valor':c} )\n",
    "    f.sort(key=get_prob)\n",
    "    \n",
    "    while len(f) > 1:\n",
    "        c1 = f.pop(0)\n",
    "        c2 = f.pop(0)\n",
    "        novo_node = {'valor':'NAO_FOLHA', 'prob':c1['prob']+c2['prob'], 'filho_0':c1, 'filho_1': c2}\n",
    "        \n",
    "        f.insert(0, novo_node)\n",
    "        f.sort(key=get_prob)\n",
    "\n",
    "    return f[0]\n",
    "\n",
    "from pprint import pprint\n",
    "pprint(huffman_tree(\"NUMPY\"))"
   ]
  },
  {
   "cell_type": "markdown",
   "metadata": {},
   "source": [
    "## Exercício 2"
   ]
  },
  {
   "cell_type": "markdown",
   "metadata": {},
   "source": [
    "Qual a palavra gerada pelo encoding 11000110111110?"
   ]
  }
 ],
 "metadata": {
  "kernelspec": {
   "display_name": ".venv",
   "language": "python",
   "name": "python3"
  },
  "language_info": {
   "codemirror_mode": {
    "name": "ipython",
    "version": 3
   },
   "file_extension": ".py",
   "mimetype": "text/x-python",
   "name": "python",
   "nbconvert_exporter": "python",
   "pygments_lexer": "ipython3",
   "version": "3.11.4"
  }
 },
 "nbformat": 4,
 "nbformat_minor": 2
}
