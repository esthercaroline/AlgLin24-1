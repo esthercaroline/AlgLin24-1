{
 "cells": [
  {
   "cell_type": "markdown",
   "metadata": {},
   "source": [
    "# Exercício 1\n"
   ]
  },
  {
   "cell_type": "markdown",
   "metadata": {},
   "source": [
    "Uma determinada variável aleatória discreta apresenta a seguinte distribuição de probabilidades:\n",
    "Qual a entropia em base 2 desta variável?"
   ]
  },
  {
   "cell_type": "code",
   "execution_count": 2,
   "metadata": {},
   "outputs": [
    {
     "name": "stdout",
     "output_type": "stream",
     "text": [
      "2.7593712660850507\n"
     ]
    }
   ],
   "source": [
    "import numpy as np\n",
    "import scipy.stats as stats\n",
    "\n",
    "X = np.array([0.14, 0.06, 0.02, 0.03, 0.04, 0.33, 0.19, 0.01, 0.11, 0.07])\n",
    "\n",
    "print(stats.entropy(X, base=2))"
   ]
  },
  {
   "cell_type": "markdown",
   "metadata": {},
   "source": [
    "# Exercício 2"
   ]
  },
  {
   "cell_type": "markdown",
   "metadata": {},
   "source": [
    "Uma determinada variável aleatória discreta é modelada por uma distribuição Binomial cuja probabilidade é 0.478 e o valor de N é 20.\n",
    "\n",
    "Qual a entropia em base 2 desta variável?"
   ]
  },
  {
   "cell_type": "code",
   "execution_count": 2,
   "metadata": {},
   "outputs": [
    {
     "name": "stdout",
     "output_type": "stream",
     "text": [
      "3.206272255711285\n"
     ]
    }
   ],
   "source": [
    "import numpy as np\n",
    "from scipy.stats import binom\n",
    "\n",
    "N = 20\n",
    "p = 0.478\n",
    "\n",
    "probabilities = [binom.pmf(k, N, p) for k in range(N + 1)]\n",
    "print(stats.entropy(probabilities, base=2))"
   ]
  },
  {
   "cell_type": "markdown",
   "metadata": {},
   "source": [
    "# Exercício 3"
   ]
  },
  {
   "cell_type": "markdown",
   "metadata": {},
   "source": [
    "Qual a entropia em base 2 relacionada a rolar um dado de 19 lados e obter como resultado a face 2?"
   ]
  },
  {
   "cell_type": "code",
   "execution_count": 3,
   "metadata": {},
   "outputs": [
    {
     "name": "stdout",
     "output_type": "stream",
     "text": [
      "0.2974722489192897\n"
     ]
    }
   ],
   "source": [
    "# Probabilidade de obter a face 2\n",
    "probabilidade_2 = 1 / 19\n",
    "\n",
    "# Calcular a entropia\n",
    "entropia = stats.entropy([probabilidade_2, 18/19], base=2)\n",
    "\n",
    "print(entropia)\n"
   ]
  }
 ],
 "metadata": {
  "kernelspec": {
   "display_name": ".venv",
   "language": "python",
   "name": "python3"
  },
  "language_info": {
   "codemirror_mode": {
    "name": "ipython",
    "version": 3
   },
   "file_extension": ".py",
   "mimetype": "text/x-python",
   "name": "python",
   "nbconvert_exporter": "python",
   "pygments_lexer": "ipython3",
   "version": "3.11.4"
  }
 },
 "nbformat": 4,
 "nbformat_minor": 2
}
