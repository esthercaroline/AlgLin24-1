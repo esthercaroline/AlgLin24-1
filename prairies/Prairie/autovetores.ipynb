{
 "cells": [
  {
   "cell_type": "code",
   "execution_count": 2,
   "metadata": {},
   "outputs": [],
   "source": [
    "import numpy as np"
   ]
  },
  {
   "cell_type": "markdown",
   "metadata": {},
   "source": [
    "# Exercício 1\n"
   ]
  },
  {
   "cell_type": "markdown",
   "metadata": {},
   "source": [
    "\n",
    "A = np.array([[0.50, 0.16], [0.59, 0.32]])\n",
    "\n",
    "Calcule os autovalores e autovetores da matriz e responda:\n"
   ]
  },
  {
   "cell_type": "markdown",
   "metadata": {},
   "source": [
    "Qual o maior autovalor da matriz?\n",
    "\n",
    "Qual o autovetor correspondente ao maior autovalor da matriz?\n",
    "\n",
    "Qual o menor autovalor da matriz?\n",
    "\n",
    "Qual o autovetor correspondente ao menor autovalor da matriz?"
   ]
  },
  {
   "cell_type": "code",
   "execution_count": 2,
   "metadata": {},
   "outputs": [
    {
     "name": "stdout",
     "output_type": "stream",
     "text": [
      "[0.73015621 0.08984379] [[ 0.57080321 -0.36342232]\n",
      " [ 0.8210869   0.93162451]]\n"
     ]
    }
   ],
   "source": [
    "\n",
    "\n",
    "A = np.array([[0.50, 0.16], [0.59, 0.32]])\n",
    "valores, vetores = np.linalg.eig(A)\n",
    "\n",
    "print(valores, vetores)\n"
   ]
  },
  {
   "cell_type": "markdown",
   "metadata": {},
   "source": [
    "# Exercício 2"
   ]
  },
  {
   "cell_type": "markdown",
   "metadata": {},
   "source": [
    "Calcule os autovalores e autovetores da matriz e responda:\n",
    "\n",
    "Qual o maior autovalor da matriz?\n",
    "\n",
    "Qual o autovetor correspondente ao maior autovalor da matriz? (coloque os elementos na mesma linha)"
   ]
  },
  {
   "cell_type": "code",
   "execution_count": 6,
   "metadata": {},
   "outputs": [
    {
     "name": "stdout",
     "output_type": "stream",
     "text": [
      "[ 4.04377017  0.91093122  0.69860654  0.41014856  0.17906159 -0.03171104\n",
      " -0.47874418 -0.36206288]\n",
      "[[ 0.45825246  0.30249204  0.17484544 -0.26740308  0.15417624  0.18134188\n",
      "   0.52982612 -0.38358772]\n",
      " [ 0.35633618  0.49026844 -0.26945578 -0.36988021  0.6657291   0.38342568\n",
      "  -0.0548061  -0.20312716]\n",
      " [ 0.4161241  -0.5286498  -0.14545488 -0.2804177   0.26507576  0.37901739\n",
      "   0.35166742 -0.235815  ]\n",
      " [ 0.32677295  0.16316766  0.80278055  0.09947216  0.11447014  0.19018058\n",
      "  -0.0150099  -0.09391276]\n",
      " [ 0.29105913 -0.40159952 -0.18970494  0.62386575 -0.53015225 -0.34485544\n",
      "  -0.04110842  0.04389503]\n",
      " [ 0.31095196  0.00737904  0.24642813  0.14060688 -0.34025964  0.26397196\n",
      "  -0.71397051  0.82393296]\n",
      " [ 0.25239462 -0.39735126  0.02593318 -0.39496598 -0.11441185 -0.10967491\n",
      "  -0.28045209  0.24512411]\n",
      " [ 0.37145633  0.20692145 -0.36581634  0.37172372 -0.19934339 -0.66305504\n",
      "  -0.04783445  0.07933077]]\n"
     ]
    }
   ],
   "source": [
    "\n",
    "\n",
    "A = np.array([[0.92, 0.95, 0.07, 0.58, 0.77, 0.54, 0.91, 0.68], [0.98, 0.59, 0.28, 0.06, 0.17, 0.59, 0.31, 0.90], [0.21, 0.67, 0.86, 0.58, 0.71, 0.29, 0.95, 0.71], [0.55, 0.14, 0.42, 0.96, 0.10, 0.37, 0.37, 0.79], [0.19, 0.41, 0.71, 0.36, 0.80, 0.27, 0.20, 0.44], [0.95, 0.33, 0.24, 0.44, 0.76, 0.10, 0.37, 0.31], [0.44, 0.19, 0.54, 0.29, 0.42, 0.09, 0.63, 0.33], [0.87, 0.82, 0.24, 0.11, 0.94, 0.48, 0.25, 0.51]])\n",
    "valores, vetores = np.linalg.eig(A)\n",
    "\n",
    "print(valores)\n",
    "print(vetores)"
   ]
  },
  {
   "cell_type": "markdown",
   "metadata": {},
   "source": [
    "# Exercício 3"
   ]
  },
  {
   "cell_type": "markdown",
   "metadata": {},
   "source": [
    "Considere os autovalores w e os autovetores v abaixo de modo que os valores na coluna v[:,i] são os autovetores correspondentes ao autovalor w[i]."
   ]
  },
  {
   "cell_type": "markdown",
   "metadata": {},
   "source": [
    "Qual a matriz A cujos autovalores são w e os autovetores v? (Dica: utilize np.diag para converter uma lista de números em uma matriz diagonal)"
   ]
  },
  {
   "cell_type": "code",
   "execution_count": 5,
   "metadata": {},
   "outputs": [
    {
     "data": {
      "text/plain": [
       "array([[0.99, 0.29, 0.22],\n",
       "       [0.39, 0.14, 0.82],\n",
       "       [0.16, 0.5 , 0.54]])"
      ]
     },
     "execution_count": 5,
     "metadata": {},
     "output_type": "execute_result"
    }
   ],
   "source": [
    "\n",
    "\n",
    "vetores = np.array([[-0.70203154, -0.72228173, 0.11197665], [-0.53839509, 0.37387376, -0.87506593], [-0.46613564, 0.58183117, 0.47087243]])\n",
    "valores = np.array([1.35847977, 0.66266755, -0.35114732])\n",
    "valores_ = np.diag(valores)\n",
    "# print(valores_)\n",
    "A = vetores @ valores_ @ np.linalg.inv(vetores)\n",
    "A"
   ]
  }
 ],
 "metadata": {
  "kernelspec": {
   "display_name": ".venv",
   "language": "python",
   "name": "python3"
  },
  "language_info": {
   "codemirror_mode": {
    "name": "ipython",
    "version": 3
   },
   "file_extension": ".py",
   "mimetype": "text/x-python",
   "name": "python",
   "nbconvert_exporter": "python",
   "pygments_lexer": "ipython3",
   "version": "3.11.4"
  }
 },
 "nbformat": 4,
 "nbformat_minor": 2
}
