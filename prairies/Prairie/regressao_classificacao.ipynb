{
 "cells": [
  {
   "cell_type": "markdown",
   "metadata": {},
   "source": [
    "# Exercício 1"
   ]
  },
  {
   "cell_type": "markdown",
   "metadata": {},
   "source": [
    "### Considerando um modelo Ax + B e as medidas xi, yi apresentadas abaixo:"
   ]
  },
  {
   "cell_type": "code",
   "execution_count": 1,
   "metadata": {},
   "outputs": [],
   "source": [
    "import numpy as np\n",
    "\n",
    "A = 6.00\n",
    "B = 19.00\n",
    "x = np.array([4.05, 5.33, 6.05, 6.18, 6.34, 6.46, 7.25, 8.90, 8.95, 9.75])\n",
    "y = np.array([40.13, 55.15, 59.02, 58.97, 53.20, 62.28, 58.88, 77.71, 60.80, 81.50])"
   ]
  },
  {
   "cell_type": "code",
   "execution_count": 2,
   "metadata": {},
   "outputs": [
    {
     "name": "stdout",
     "output_type": "stream",
     "text": [
      "28.371479999999963\n"
     ]
    }
   ],
   "source": [
    "def eqm( parametros ):\n",
    "    medidas_x, medidas_y, coef_angular_modelo, coef_linear_modelo = parametros\n",
    "    # Complete esta função\n",
    "    y_reta  = coef_angular_modelo * medidas_x + coef_linear_modelo\n",
    "    dists = (medidas_y - y_reta)**2\n",
    "    eqm_ = sum(dists)/len(medidas_x)\n",
    "\n",
    "    return eqm_\n",
    "\n",
    "\n",
    "print(eqm([x, y, A, B]))"
   ]
  },
  {
   "cell_type": "markdown",
   "metadata": {},
   "source": [
    "# Exercício 2"
   ]
  },
  {
   "cell_type": "code",
   "execution_count": 4,
   "metadata": {},
   "outputs": [],
   "source": [
    "import numpy as np\n",
    "\n",
    "x = np.array([0.13, 0.56, 0.65, 1.08, 1.92, 2.08, 5.76, 6.95, 8.15, 9.69])\n",
    "y = np.array([20.92, 21.22, 25.99, 33.79, 43.47, 35.67, 70.61, 104.55, 95.81, 105.36])"
   ]
  },
  {
   "cell_type": "code",
   "execution_count": 5,
   "metadata": {},
   "outputs": [
    {
     "name": "stdout",
     "output_type": "stream",
     "text": [
      "1675.2318199999995\n",
      "374.71421999999995\n",
      "467.7603499999999\n",
      "782.32866\n",
      "1026.1131500000001\n"
     ]
    }
   ],
   "source": [
    "print(eqm([x, y, 3, 11]))\n",
    "print(eqm([x, y, 7, 14]))\n",
    "print(eqm([x, y, 6, 17]))\n",
    "print(eqm([x, y, 5, 15]))\n",
    "print(eqm([x, y, 4, 16]))\n"
   ]
  },
  {
   "cell_type": "markdown",
   "metadata": {},
   "source": [
    "# Exercício 3"
   ]
  },
  {
   "cell_type": "code",
   "execution_count": 9,
   "metadata": {},
   "outputs": [],
   "source": [
    "import numpy as np\n",
    "\n",
    "x = np.array([0.21, 2.52, 3.35, 3.99, 4.20, 4.66, 4.70, 5.80, 6.49, 8.35])\n",
    "y = np.array([19.43, 42.48, 63.78, 70.09, 75.69, 78.37, 74.48, 101.13, 105.30, 121.75])"
   ]
  },
  {
   "cell_type": "code",
   "execution_count": 10,
   "metadata": {},
   "outputs": [
    {
     "name": "stdout",
     "output_type": "stream",
     "text": [
      "1177.54573\n",
      "143.56073000000006\n",
      "1857.68001\n",
      "248.40104999999994\n",
      "2572.39198\n",
      "32.95861\n",
      "3129.7551\n",
      "1392.9371000000003\n",
      "886.9512500000001\n",
      "2172.12701\n",
      "474.56629999999984\n"
     ]
    }
   ],
   "source": [
    "#Original\n",
    "print(eqm([x, y, 19, 23]))\n",
    "#Testes\n",
    "print(eqm([x, y, 9, 29]))\n",
    "print(eqm([x, y, 5, 14]))\n",
    "print(eqm([x, y, 17, 13]))\n",
    "print(eqm([x, y, 4, 11]))\n",
    "print(eqm([x, y, 15, 10]))\n",
    "print(eqm([x, y, 2, 16]))\n",
    "print(eqm([x, y, 6, 15]))\n",
    "print(eqm([x, y, 7, 18]))\n",
    "print(eqm([x, y, 3, 21]))\n",
    "print(eqm([x, y, 16, 25]))\n",
    "\n",
    "\n",
    "\n"
   ]
  }
 ],
 "metadata": {
  "kernelspec": {
   "display_name": ".venv",
   "language": "python",
   "name": "python3"
  },
  "language_info": {
   "codemirror_mode": {
    "name": "ipython",
    "version": 3
   },
   "file_extension": ".py",
   "mimetype": "text/x-python",
   "name": "python",
   "nbconvert_exporter": "python",
   "pygments_lexer": "ipython3",
   "version": "3.11.4"
  }
 },
 "nbformat": 4,
 "nbformat_minor": 2
}
